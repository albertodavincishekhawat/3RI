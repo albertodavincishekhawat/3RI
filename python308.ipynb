{
 "cells": [
  {
   "cell_type": "markdown",
   "metadata": {},
   "source": [
    "# Python308"
   ]
  },
  {
   "cell_type": "markdown",
   "metadata": {},
   "source": [
    "## class 3"
   ]
  },
  {
   "cell_type": "markdown",
   "metadata": {},
   "source": [
    "1. take 2 inputs and perform arithmatic operations on it"
   ]
  },
  {
   "cell_type": "code",
   "execution_count": 1,
   "metadata": {},
   "outputs": [
    {
     "name": "stdout",
     "output_type": "stream",
     "text": [
      "addition is  9\n",
      "substraction is  3\n",
      "multiplication is  18\n",
      "division is  2.0\n",
      "floordivision is  2\n",
      "modulus is  0\n",
      "exponential is  216\n"
     ]
    }
   ],
   "source": [
    "#taking input\n",
    "a,b=int(input('Enter 1st value: ')),int(input('Enter 2nd value: '))\n",
    "\n",
    "#performing arithmatic ops and printing\n",
    "print(\"addition is \",a+b)\n",
    "print(\"substraction is \",a-b)\n",
    "print(\"multiplication is \",a*b)\n",
    "print(\"division is \",a/b)\n",
    "print(\"floordivision is \",a//b)\n",
    "print(\"modulus is \",a%b)\n",
    "print(\"exponential is \",a**b)\n",
    "\n"
   ]
  },
  {
   "cell_type": "markdown",
   "metadata": {},
   "source": [
    "2. take input and convert Fareheit to celcius\n"
   ]
  },
  {
   "cell_type": "code",
   "execution_count": 5,
   "metadata": {},
   "outputs": [
    {
     "name": "stdout",
     "output_type": "stream",
     "text": [
      "Celcius value is :  0.0\n"
     ]
    }
   ],
   "source": [
    "f=float(input('Enter Farenheit value: '))\n",
    "c= (f-32)*5/9\n",
    "print(\"Celcius value is : \",c)"
   ]
  },
  {
   "cell_type": "markdown",
   "metadata": {},
   "source": [
    "3. calculate area of circle from input of radius by user"
   ]
  },
  {
   "cell_type": "code",
   "execution_count": 6,
   "metadata": {},
   "outputs": [
    {
     "name": "stdout",
     "output_type": "stream",
     "text": [
      "Area of circle is :  50.285714285714285\n"
     ]
    }
   ],
   "source": [
    "r=float(input('Enter radius value: '))\n",
    "a = (22/7)*r**2\n",
    "print(\"Area of circle is : \",a)"
   ]
  },
  {
   "cell_type": "code",
   "execution_count": null,
   "metadata": {},
   "outputs": [],
   "source": []
  }
 ],
 "metadata": {
  "kernelspec": {
   "display_name": "Python 3",
   "language": "python",
   "name": "python3"
  },
  "language_info": {
   "codemirror_mode": {
    "name": "ipython",
    "version": 3
   },
   "file_extension": ".py",
   "mimetype": "text/x-python",
   "name": "python",
   "nbconvert_exporter": "python",
   "pygments_lexer": "ipython3",
   "version": "3.10.12"
  }
 },
 "nbformat": 4,
 "nbformat_minor": 2
}
