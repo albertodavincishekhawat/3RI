{
 "cells": [
  {
   "cell_type": "markdown",
   "metadata": {},
   "source": [
    "# Analytics1071\n",
    "by Pawan Kumar ***(Data Scientist)***\n",
    "\n",
    "<br>\n",
    "<br>\n",
    "\n",
    "--- \n",
    "---\n",
    "<br>\n",
    "<br>"
   ]
  },
  {
   "cell_type": "markdown",
   "metadata": {},
   "source": [
    "**31.05.24 Class 1**\n"
   ]
  },
  {
   "cell_type": "markdown",
   "metadata": {},
   "source": [
    "\n",
    "\n",
    "> *Words and **terms** used during an interview are very important thet reflect you depth of knowledge.*\n"
   ]
  },
  {
   "cell_type": "markdown",
   "metadata": {},
   "source": [
    "\n",
    "## Interpreter vs Compiler?\n",
    "| \"INTERPRETER\" | \"COMPILER\" |\n",
    "| :---|:---|\n",
    "|executes line by line|executes all lines|\n",
    "|wont check next line til error resolved| compiles whole code with errors|\n",
    "|makes no other file|creates a file w/t compiled code & then executes it|\n",
    "\n",
    "- **EXECUTION** - checking runtime errors\n",
    "- **COMPILING** - checking syntax error \n"
   ]
  },
  {
   "cell_type": "markdown",
   "metadata": {},
   "source": [
    "## J.I.T - Just In Time (interpreter? compiler?)\n",
    "> It looks like there are is no compiler & only interpreter , <br>it does have a compiler which executes line by line."
   ]
  },
  {
   "cell_type": "markdown",
   "metadata": {},
   "source": [
    "\n",
    "\n",
    "#### How is JIT working? \n",
    "\n",
    "1. Compiler checks syntax of a line(code)\n",
    "2. If there is no error, code is sent to KERNEL.<br>\n",
    "    ###### KERNEL = Core part of any OS, the controls all the resources and computes.\n",
    "    - If code asks to print result print it\n",
    "    - If code asks to save result allocate memory to it.\n",
    "3. Mean while result is being printed or saved JIT is compiling the next line of code.\n",
    "\n",
    "> *just in time = mean while? --- almost!* <br>\n"
   ]
  },
  {
   "cell_type": "markdown",
   "metadata": {},
   "source": [
    "\n",
    "\n",
    "\n",
    "### Why using it?\n",
    "- Faster debuging no need to wait while whole code compiles.\n",
    "- Better for larger datasets and complex workloads.\n",
    "\n",
    "\n"
   ]
  },
  {
   "cell_type": "markdown",
   "metadata": {},
   "source": []
  },
  {
   "cell_type": "markdown",
   "metadata": {},
   "source": []
  }
 ],
 "metadata": {
  "kernelspec": {
   "display_name": "Python 3",
   "language": "python",
   "name": "python3"
  },
  "language_info": {
   "codemirror_mode": {
    "name": "ipython",
    "version": 3
   },
   "file_extension": ".py",
   "mimetype": "text/x-python",
   "name": "python",
   "nbconvert_exporter": "python",
   "pygments_lexer": "ipython3",
   "version": "3.12.3"
  }
 },
 "nbformat": 4,
 "nbformat_minor": 2
}
