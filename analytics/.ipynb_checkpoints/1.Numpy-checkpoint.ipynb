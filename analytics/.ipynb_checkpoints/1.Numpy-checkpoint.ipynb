{
 "cells": [
  {
   "cell_type": "markdown",
   "id": "d014a360-52db-4c71-a2bd-efb45136a779",
   "metadata": {
    "editable": true,
    "slideshow": {
     "slide_type": ""
    },
    "tags": []
   },
   "source": [
    "# 19.06.2014 Class 8 \n",
    "> It was all about setting up jupyter notebook. "
   ]
  },
  {
   "cell_type": "markdown",
   "id": "c56f8898",
   "metadata": {},
   "source": [
    "# 20.06.2024 Class 9\n"
   ]
  },
  {
   "cell_type": "code",
   "execution_count": 26,
   "id": "e38f502a-fe6f-485c-9733-7ef6f73ed950",
   "metadata": {},
   "outputs": [
    {
     "ename": "SyntaxError",
     "evalue": "invalid syntax. Perhaps you forgot a comma? (3899068861.py, line 1)",
     "output_type": "error",
     "traceback": [
      "\u001b[1;36m  Cell \u001b[1;32mIn[26], line 1\u001b[1;36m\u001b[0m\n\u001b[1;33m    [Advanced numpy](https://www.geeksforgeeks.org/python-numpy/)\u001b[0m\n\u001b[1;37m     ^\u001b[0m\n\u001b[1;31mSyntaxError\u001b[0m\u001b[1;31m:\u001b[0m invalid syntax. Perhaps you forgot a comma?\n"
     ]
    }
   ],
   "source": [
    "[Advanced numpy](https://www.geeksforgeeks.org/python-numpy/)"
   ]
  },
  {
   "cell_type": "markdown",
   "id": "36309c14-32ec-4d50-9dd3-7ac1bcade3d5",
   "metadata": {},
   "source": [
    "# Numpy\n",
    "NumPy is a library for the Python programming language, adding support for large, multi-dimensional arrays and matrices,<br>along with a large collection of high-level mathematical functions to operate on these .\n",
    "> python dosent support array directly that's why we use numpy.\n",
    "\n",
    "## Why use **array** and not **list**?\n",
    "\n",
    "- For working with data we need to be faster than normal list.<br>\n",
    "- Accessing elements in list is slow because ***list in python are a linked-list (not simple list)***,<br> This makes list slower.\n",
    "- **LISTS** are **heterogenous**( it can contain all kinds of datatypes) **ARRAYS** are **homogenous**( can only contain one kind of datatype at a time).<br> This makes list slower.\n",
    "\n"
   ]
  },
  {
   "cell_type": "markdown",
   "id": "298b9664-d229-460e-a0a8-494ada2cee70",
   "metadata": {},
   "source": [
    "## How to install and import \"numpy\"?"
   ]
  },
  {
   "cell_type": "code",
   "execution_count": 1,
   "id": "727c087a-287d-485c-aad5-349641ccce16",
   "metadata": {},
   "outputs": [],
   "source": [
    "# to install the package | need not run everytime\n",
    "# pip install numpy"
   ]
  },
  {
   "cell_type": "code",
   "execution_count": 2,
   "id": "799f0242-415d-4f34-bfb8-47383ab2b0e3",
   "metadata": {},
   "outputs": [],
   "source": [
    "# to import nad use numpy\n",
    "import numpy as np"
   ]
  },
  {
   "cell_type": "markdown",
   "id": "46dff119-af0e-451a-b478-ba41feace0b5",
   "metadata": {},
   "source": [
    "## How to Create array?\n",
    "### 1. Array from list?"
   ]
  },
  {
   "cell_type": "code",
   "execution_count": 3,
   "id": "2977b894-1253-4218-9505-8225f155c376",
   "metadata": {},
   "outputs": [
    {
     "data": {
      "text/plain": [
       "array([5, 2, 9, 6, 2, 4, 7, 3, 9])"
      ]
     },
     "execution_count": 3,
     "metadata": {},
     "output_type": "execute_result"
    }
   ],
   "source": [
    "\n",
    "ls = [5,2,9,6,2,4,7,3,9] # this is a list\n",
    "\n",
    "# method \"array\" is given an argument variable \"ls\" which points to a list\n",
    "# that list is converted to array\n",
    "arr1 = np.array(ls) \n",
    "arr1"
   ]
  },
  {
   "cell_type": "markdown",
   "id": "8273facb-1f3d-44f3-b539-f131b5561886",
   "metadata": {},
   "source": [
    "### 2. Creating Array directly?"
   ]
  },
  {
   "cell_type": "code",
   "execution_count": 10,
   "id": "ba31b193-52c8-452c-a722-7a3b72f04868",
   "metadata": {},
   "outputs": [
    {
     "data": {
      "text/plain": [
       "array([1, 2, 3, 4])"
      ]
     },
     "execution_count": 10,
     "metadata": {},
     "output_type": "execute_result"
    }
   ],
   "source": [
    "# directly giving a list as argument to 'array' method\n",
    "arr2 = np.array([1,2,3,4]) \n",
    "arr2\n",
    "\n",
    "# pay attention all elements are homogen"
   ]
  },
  {
   "cell_type": "markdown",
   "id": "4612a28b-3767-4d21-a760-4b25984f20a2",
   "metadata": {},
   "source": [
    "### 3. If list input in array method is not homogenous?"
   ]
  },
  {
   "cell_type": "code",
   "execution_count": 5,
   "id": "ec9e0271-745b-406f-b3ea-24fb753f098d",
   "metadata": {},
   "outputs": [
    {
     "data": {
      "text/plain": [
       "array([1. , 2. , 3. , 4.7])"
      ]
     },
     "execution_count": 5,
     "metadata": {},
     "output_type": "execute_result"
    }
   ],
   "source": [
    "# one of the elements is \"float\"\n",
    "arr3 = np.array([1,2,3,4.7]) \n",
    "arr3\n",
    "\n",
    "# whole array is converted to float \n",
    "# as float can is capable to record both int and float value."
   ]
  },
  {
   "cell_type": "code",
   "execution_count": 6,
   "id": "923a21ff-e032-45d0-975c-8df8432212a2",
   "metadata": {},
   "outputs": [
    {
     "data": {
      "text/plain": [
       "array(['1', '2', '3', '3ri'], dtype='<U11')"
      ]
     },
     "execution_count": 6,
     "metadata": {},
     "output_type": "execute_result"
    }
   ],
   "source": [
    "# one of the elements is \"str\"\n",
    "\n",
    "arr3 = np.array([1,2,3,'3ri']) \n",
    "arr3\n",
    "\n",
    "# whole array is converted to \"str\" \n",
    "# as str can is capable to record as int and float and str value."
   ]
  },
  {
   "cell_type": "markdown",
   "id": "ea9dedcb-aace-4e49-94d5-a0479b2f03b9",
   "metadata": {},
   "source": [
    "### 4. Using \"arange()\" to create array?\n",
    "- SYNTAX : np.arange(start:stop:step)\n",
    "> observe below ***array can be converted to matrix using .reshape()***"
   ]
  },
  {
   "cell_type": "code",
   "execution_count": 22,
   "id": "45996cf8-6a49-4d67-bf36-b950274775e4",
   "metadata": {},
   "outputs": [
    {
     "name": "stdout",
     "output_type": "stream",
     "text": [
      "[[0 1]\n",
      " [2 3]]\n",
      "[4 5 6 7 8 9]\n",
      "[ 4  7 10 13 16 19]\n"
     ]
    }
   ],
   "source": [
    "print( np.arange(4).reshape(2, 2))\n",
    "print(np.arange(4, 10))\n",
    "print(np.arange(4, 20, 3))"
   ]
  },
  {
   "cell_type": "markdown",
   "id": "7001e4cc-c51a-4c1f-a444-ae4a648f7315",
   "metadata": {},
   "source": [
    "## How create array matrix?"
   ]
  },
  {
   "cell_type": "code",
   "execution_count": 11,
   "id": "e4841991-2867-4691-8580-829a7a5e1e77",
   "metadata": {
    "scrolled": true
   },
   "outputs": [
    {
     "data": {
      "text/plain": [
       "array([ 0,  1,  2,  3,  4,  5,  6,  7,  8,  9, 10, 11, 12, 13, 14, 15, 16,\n",
       "       17, 18, 19, 20, 21, 22, 23, 24, 25, 26, 27, 28, 29, 30, 31, 32, 33,\n",
       "       34, 35, 36, 37, 38, 39, 40, 41, 42, 43, 44, 45, 46, 47, 48, 49, 50,\n",
       "       51, 52, 53, 54, 55, 56, 57, 58, 59])"
      ]
     },
     "execution_count": 11,
     "metadata": {},
     "output_type": "execute_result"
    }
   ],
   "source": [
    "arrMat = np.array([[2,5,2,3,4],[4,7,5,6,7]])\n",
    "Mat"
   ]
  },
  {
   "cell_type": "code",
   "execution_count": null,
   "id": "1e3f1b81-48a6-4183-b255-2a8bb6724961",
   "metadata": {},
   "outputs": [],
   "source": []
  },
  {
   "cell_type": "markdown",
   "id": "0b1bd99e-67f7-4a61-8d13-42faf804ac46",
   "metadata": {},
   "source": [
    "## + - * /  operators between matrices?\n",
    "All these mathamatical operations can be performed on arrays of equal shape and size! "
   ]
  },
  {
   "cell_type": "code",
   "execution_count": 23,
   "id": "e17fe345-1696-4bb3-a9ad-dfbbf6b4f59e",
   "metadata": {},
   "outputs": [
    {
     "name": "stdout",
     "output_type": "stream",
     "text": [
      "First array:\n",
      "[[0. 1.]\n",
      " [2. 3.]]\n",
      "\n",
      "Second array:\n",
      "[12 12]\n",
      "\n",
      "Adding the two arrays:\n",
      "[[12. 13.]\n",
      " [14. 15.]]\n",
      "\n",
      "Subtracting the two arrays:\n",
      "[[-12. -11.]\n",
      " [-10.  -9.]]\n",
      "\n",
      "Multiplying the two arrays:\n",
      "[[ 0. 12.]\n",
      " [24. 36.]]\n",
      "\n",
      "Dividing the two arrays:\n",
      "[[0.         0.08333333]\n",
      " [0.16666667 0.25      ]]\n"
     ]
    }
   ],
   "source": [
    "arr1 = np.arange(4, dtype = np.float_).reshape(2, 2) \n",
    " \n",
    "print('First array:') \n",
    "print(arr1)\n",
    " \n",
    "print('\\nSecond array:') \n",
    "arr2 = np.array([12, 12]) \n",
    "print(arr2)\n",
    " \n",
    "print('\\nAdding the two arrays:') \n",
    "print(np.add(arr1, arr2))\n",
    " \n",
    "print('\\nSubtracting the two arrays:') \n",
    "print(np.subtract(arr1, arr2))\n",
    " \n",
    "print('\\nMultiplying the two arrays:')\n",
    "print(np.multiply(arr1, arr2))\n",
    " \n",
    "print('\\nDividing the two arrays:')\n",
    "print(np.divide(arr1, arr2))"
   ]
  },
  {
   "cell_type": "markdown",
   "id": "aa47d012-2cf8-47e0-b750-46240af05973",
   "metadata": {},
   "source": [
    "## Shape in numpy? reshape?\n",
    "- The information (num of rows, num of columns) in a matrix is that matrix's shape."
   ]
  },
  {
   "cell_type": "code",
   "execution_count": 13,
   "id": "6847d413-f611-471e-85c2-dc0cd9b8cbcc",
   "metadata": {},
   "outputs": [
    {
     "data": {
      "text/plain": [
       "array([ 0,  1,  2,  3,  4,  5,  6,  7,  8,  9, 10, 11, 12, 13, 14, 15, 16,\n",
       "       17, 18, 19, 20, 21, 22, 23, 24, 25, 26, 27, 28, 29, 30, 31, 32, 33,\n",
       "       34, 35, 36, 37, 38, 39, 40, 41, 42, 43, 44, 45, 46, 47, 48, 49, 50,\n",
       "       51, 52, 53, 54, 55, 56, 57, 58, 59])"
      ]
     },
     "execution_count": 13,
     "metadata": {},
     "output_type": "execute_result"
    }
   ],
   "source": [
    "Mat = np.arange(60)\n",
    "Mat"
   ]
  },
  {
   "cell_type": "code",
   "execution_count": 14,
   "id": "c683a3f7-23d0-4246-9879-43e4f36b9b9c",
   "metadata": {},
   "outputs": [
    {
     "data": {
      "text/plain": [
       "array([[ 0,  1,  2,  3,  4,  5,  6,  7,  8,  9, 10, 11],\n",
       "       [12, 13, 14, 15, 16, 17, 18, 19, 20, 21, 22, 23],\n",
       "       [24, 25, 26, 27, 28, 29, 30, 31, 32, 33, 34, 35],\n",
       "       [36, 37, 38, 39, 40, 41, 42, 43, 44, 45, 46, 47],\n",
       "       [48, 49, 50, 51, 52, 53, 54, 55, 56, 57, 58, 59]])"
      ]
     },
     "execution_count": 14,
     "metadata": {},
     "output_type": "execute_result"
    }
   ],
   "source": [
    "reshapedMat = Mat.reshape(5,12)\n",
    "reshapedMat"
   ]
  },
  {
   "cell_type": "code",
   "execution_count": 15,
   "id": "8ac19c0e-398a-459e-9a7d-f9acccc94f4e",
   "metadata": {},
   "outputs": [
    {
     "data": {
      "text/plain": [
       "array([[ 0,  1,  2],\n",
       "       [ 3,  4,  5],\n",
       "       [ 6,  7,  8],\n",
       "       [ 9, 10, 11],\n",
       "       [12, 13, 14],\n",
       "       [15, 16, 17],\n",
       "       [18, 19, 20],\n",
       "       [21, 22, 23],\n",
       "       [24, 25, 26],\n",
       "       [27, 28, 29],\n",
       "       [30, 31, 32],\n",
       "       [33, 34, 35],\n",
       "       [36, 37, 38],\n",
       "       [39, 40, 41],\n",
       "       [42, 43, 44],\n",
       "       [45, 46, 47],\n",
       "       [48, 49, 50],\n",
       "       [51, 52, 53],\n",
       "       [54, 55, 56],\n",
       "       [57, 58, 59]])"
      ]
     },
     "execution_count": 15,
     "metadata": {},
     "output_type": "execute_result"
    }
   ],
   "source": [
    "reshapedMat0 = Mat.reshape(20,3)\n",
    "reshapedMat0"
   ]
  },
  {
   "cell_type": "code",
   "execution_count": 16,
   "id": "4d5fd5de-e3bb-422b-a583-07fc8f92c0eb",
   "metadata": {},
   "outputs": [
    {
     "ename": "ValueError",
     "evalue": "cannot reshape array of size 60 into shape (12,1)",
     "output_type": "error",
     "traceback": [
      "\u001b[1;31m---------------------------------------------------------------------------\u001b[0m",
      "\u001b[1;31mValueError\u001b[0m                                Traceback (most recent call last)",
      "Cell \u001b[1;32mIn[16], line 2\u001b[0m\n\u001b[0;32m      1\u001b[0m \u001b[38;5;66;03m# if shape requested is not doable mathamatically it will give an error\u001b[39;00m\n\u001b[1;32m----> 2\u001b[0m reshapedMat1 \u001b[38;5;241m=\u001b[39m \u001b[43mMat\u001b[49m\u001b[38;5;241;43m.\u001b[39;49m\u001b[43mreshape\u001b[49m\u001b[43m(\u001b[49m\u001b[38;5;241;43m12\u001b[39;49m\u001b[43m,\u001b[49m\u001b[38;5;241;43m1\u001b[39;49m\u001b[43m)\u001b[49m\n\u001b[0;32m      3\u001b[0m reshapedMat1\n",
      "\u001b[1;31mValueError\u001b[0m: cannot reshape array of size 60 into shape (12,1)"
     ]
    }
   ],
   "source": [
    "# if shape requested is not doable mathamatically it will give an error\n",
    "reshapedMat1 = Mat.reshape(12,1)\n",
    "reshapedMat1"
   ]
  },
  {
   "cell_type": "markdown",
   "id": "8b4a5dd4-7264-4364-b925-bd24dae83938",
   "metadata": {},
   "source": [
    "## Size in numpy?\n",
    "**Total elements in matrix = size of matrix**\n",
    "- numpy.size() function count the number of elements along a given axis."
   ]
  },
  {
   "cell_type": "code",
   "execution_count": 17,
   "id": "90820d01-8ee5-4c60-8978-a2b36cc5c876",
   "metadata": {},
   "outputs": [
    {
     "name": "stdout",
     "output_type": "stream",
     "text": [
      "[[ 0  1  2]\n",
      " [ 3  4  5]\n",
      " [ 6  7  8]\n",
      " [ 9 10 11]\n",
      " [12 13 14]\n",
      " [15 16 17]\n",
      " [18 19 20]\n",
      " [21 22 23]\n",
      " [24 25 26]\n",
      " [27 28 29]\n",
      " [30 31 32]\n",
      " [33 34 35]\n",
      " [36 37 38]\n",
      " [39 40 41]\n",
      " [42 43 44]\n",
      " [45 46 47]\n",
      " [48 49 50]\n",
      " [51 52 53]\n",
      " [54 55 56]\n",
      " [57 58 59]]\n",
      "60\n",
      "20\n",
      "3\n"
     ]
    }
   ],
   "source": [
    "print(reshapedMat0)\n",
    "\n",
    "# By default, give the total number of elements.\n",
    "print(np.size(reshapedMat0))\n",
    "\n",
    "#gives no. of rows along x-axis\n",
    "print(np.size(reshapedMat0, 0)) \n",
    " \n",
    "#gives no. of columns along y-axis\n",
    "print(np.size(reshapedMat0, 1)) "
   ]
  },
  {
   "cell_type": "markdown",
   "id": "0704005f-22b8-4a5d-8dd5-f3dd79d55f64",
   "metadata": {},
   "source": [
    "## .ndim in numpy?\n",
    "- tells us the dimensions of the array!"
   ]
  },
  {
   "cell_type": "code",
   "execution_count": null,
   "id": "8ee6c9a8-6c24-4f72-87cc-46b9264f145e",
   "metadata": {},
   "outputs": [],
   "source": [
    "# returns if it's 1D 2D 3D or more\n",
    "arrMat.ndim"
   ]
  },
  {
   "cell_type": "code",
   "execution_count": null,
   "id": "4a112ba7-e3db-437e-ae73-bc79c0cb2d6a",
   "metadata": {},
   "outputs": [],
   "source": []
  }
 ],
 "metadata": {
  "kernelspec": {
   "display_name": "Python 3 (ipykernel)",
   "language": "python",
   "name": "python3"
  },
  "language_info": {
   "codemirror_mode": {
    "name": "ipython",
    "version": 3
   },
   "file_extension": ".py",
   "mimetype": "text/x-python",
   "name": "python",
   "nbconvert_exporter": "python",
   "pygments_lexer": "ipython3",
   "version": "3.11.5"
  }
 },
 "nbformat": 4,
 "nbformat_minor": 5
}
