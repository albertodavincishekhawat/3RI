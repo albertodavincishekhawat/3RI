{
 "cells": [
  {
   "cell_type": "code",
   "execution_count": 1,
   "metadata": {},
   "outputs": [],
   "source": [
    "# preRequisite\n",
    "import numpy as np\n",
    "import pandas as pd\n",
    "import matplotlib.pyplot as plt\n",
    "import seaborn as sns\n"
   ]
  },
  {
   "cell_type": "markdown",
   "metadata": {},
   "source": [
    "[GFG Stats CheatSheet](https://www.geeksforgeeks.org/statistics-cheatsheet/)"
   ]
  },
  {
   "cell_type": "markdown",
   "metadata": {},
   "source": [
    "# [**Hypothesis Testing?**](https://www.simplilearn.com/tutorials/statistics-tutorial/hypothesis-testing-in-statistics)\n",
    "> As Data Scientists we have to check \"Claims\",\"Statments\",\"Hypothesis\" for that we do Hypothesis testing.\n",
    "\n",
    "> In certain situations variance and Std.Deviation is used inter-changebly."
   ]
  },
  {
   "cell_type": "markdown",
   "metadata": {},
   "source": []
  },
  {
   "cell_type": "markdown",
   "metadata": {},
   "source": [
    "## Process of hypothesis testing?\n",
    "> important for interview"
   ]
  },
  {
   "cell_type": "markdown",
   "metadata": {},
   "source": [
    "### Types of Hypo-tests? When are they applied?\n",
    "\n",
    "####  Calculate Z-value from Confidence-level?\n",
    "> It's applied on normal data. ~Atleast we consider that it is normal data.\n",
    "\n",
    "> Skewed data is delt with **Central Limit Theorm**."
   ]
  },
  {
   "cell_type": "markdown",
   "metadata": {},
   "source": [
    "### [Z-test vs T-test? Calculations?](https://www.simplilearn.com/tutorials/statistics-tutorial/z-test-vs-t-test)\n",
    "\n",
    "***In practical world :*** \n",
    "- if std.dev of **population** is not availabe then use std.dev of **sample** \n",
    "- if Z_computed = 2or3 +- Z_tabular    ----- nullHypo is acceptable.\n",
    "> **Z-test** : \n",
    "> alpha(significance) and confidence-level mean more or less the same "
   ]
  },
  {
   "cell_type": "markdown",
   "metadata": {},
   "source": [
    "### ***One-tailed test*** and **Two-tailed tests**? What are they why are they names this way?"
   ]
  },
  {
   "cell_type": "markdown",
   "metadata": {},
   "source": [
    "# [Correlation vs. Regression?](https://www.simplilearn.com/tutorials/statistics-tutorial/correlation-vs-regression)"
   ]
  },
  {
   "cell_type": "markdown",
   "metadata": {},
   "source": []
  },
  {
   "cell_type": "markdown",
   "metadata": {},
   "source": [
    "## "
   ]
  }
 ],
 "metadata": {
  "kernelspec": {
   "display_name": "Python 3",
   "language": "python",
   "name": "python3"
  },
  "language_info": {
   "codemirror_mode": {
    "name": "ipython",
    "version": 3
   },
   "file_extension": ".py",
   "mimetype": "text/x-python",
   "name": "python",
   "nbconvert_exporter": "python",
   "pygments_lexer": "ipython3",
   "version": "3.12.3"
  }
 },
 "nbformat": 4,
 "nbformat_minor": 2
}
