{
 "cells": [
  {
   "cell_type": "code",
   "execution_count": 2,
   "metadata": {},
   "outputs": [],
   "source": [
    "# preRequisite\n",
    "import numpy as np\n",
    "import pandas as pd\n",
    "import matplotlib.pyplot as plt\n",
    "import seaborn as sns\n"
   ]
  },
  {
   "cell_type": "markdown",
   "metadata": {},
   "source": [
    "[GFG Stats CheatSheet](https://www.geeksforgeeks.org/statistics-cheatsheet/)\n",
    "\n",
    "[z-test & t-test pdf](files/z-test-and-t-test.pdf)"
   ]
  },
  {
   "cell_type": "markdown",
   "metadata": {},
   "source": [
    "# 03.07.2024 Class\n",
    "# [**Hypothesis Testing?**](https://www.simplilearn.com/tutorials/statistics-tutorial/hypothesis-testing-in-statistics)"
   ]
  },
  {
   "cell_type": "markdown",
   "metadata": {},
   "source": [
    "## Why do it ?\n",
    "We want to know if sample data is right representation of sample data or not."
   ]
  },
  {
   "cell_type": "markdown",
   "metadata": {},
   "source": [
    "We try to learn about statistics of sample data.\n",
    "- sample = subset of population data\n",
    "\n",
    "\n",
    ">statistics such as mean, median, std.dev\n",
    " "
   ]
  },
  {
   "cell_type": "markdown",
   "metadata": {},
   "source": [
    "Hypo-testing is mostly done on sample data and not population data, <br>\n",
    "\n",
    ">all though sample mean is compared with population mean.(while doing certain tests)\n",
    "\n",
    ">first priority is to check if mean of the sample data is true or not. is it to far away from population mean."
   ]
  },
  {
   "cell_type": "markdown",
   "metadata": {},
   "source": [
    "Process of testing if **H_null(significant)** is true or **H_alter(byChance)** is True **Hypothesis Testing**.\n",
    "> Testing is done by tests such as t-test, z-test etc."
   ]
  },
  {
   "cell_type": "markdown",
   "metadata": {},
   "source": []
  },
  {
   "cell_type": "markdown",
   "metadata": {},
   "source": [
    "**Ex. problem :** mean of height of people in pune is 165 cm so, we we find out if the value of mean is significant or fluke(by chance)."
   ]
  },
  {
   "cell_type": "markdown",
   "metadata": {},
   "source": [
    "**Ex. problem :** exam of 50 students in which 25 students score above 80%, we check is it's true or fluke."
   ]
  },
  {
   "cell_type": "markdown",
   "metadata": {},
   "source": [
    "**Ex.problem** : Average spending pune people on shopping is Rs10300 p/m  "
   ]
  },
  {
   "cell_type": "markdown",
   "metadata": {},
   "source": []
  }
 ],
 "metadata": {
  "kernelspec": {
   "display_name": "Python 3",
   "language": "python",
   "name": "python3"
  },
  "language_info": {
   "codemirror_mode": {
    "name": "ipython",
    "version": 3
   },
   "file_extension": ".py",
   "mimetype": "text/x-python",
   "name": "python",
   "nbconvert_exporter": "python",
   "pygments_lexer": "ipython3",
   "version": "3.12.3"
  }
 },
 "nbformat": 4,
 "nbformat_minor": 2
}
