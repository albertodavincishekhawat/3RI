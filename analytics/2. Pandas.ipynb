{
 "cells": [
  {
   "cell_type": "markdown",
   "metadata": {},
   "source": [
    "# **20.06.2024 Class 11**"
   ]
  },
  {
   "cell_type": "markdown",
   "metadata": {},
   "source": [
    "# **PANDAS**\n",
    "## What does Pandas do?\n",
    "\n",
    "It's Data Manipulatin Library, it preprocessosing and analyzing data.\n"
   ]
  },
  {
   "cell_type": "code",
   "execution_count": 33,
   "metadata": {},
   "outputs": [],
   "source": [
    "# to install Pandas write it in terminal\n",
    "# pip install pandas \n",
    "\n",
    "# to import pandas\n",
    "import pandas as pd\n",
    "\n",
    "\n",
    "\n",
    "\n",
    "\n",
    "# importing numpy\n",
    "import numpy as np"
   ]
  },
  {
   "cell_type": "markdown",
   "metadata": {},
   "source": [
    "\n",
    "### Preprocessing Data?\n",
    "- Cleaning\n",
    "- Finding Duplicates\n",
    "- Changing data types : Columns\n",
    "- Adding and removing columns\n",
    "- Ploting charts\n"
   ]
  },
  {
   "cell_type": "markdown",
   "metadata": {},
   "source": [
    "\n",
    "### Analyzing Data?\n",
    "- Finding Central Tendencies\n",
    "- Grouping  the data\n",
    "- Finding Distribution\n",
    "- Describing Data\n",
    "- Pivoting the Data\n",
    "- Finding correlation between columns.\n"
   ]
  },
  {
   "cell_type": "markdown",
   "metadata": {},
   "source": [
    "### Types of datatypes in Pandas?\n",
    "Series (always 1D array) and Dataframes (always 2D #d array)\n",
    "\n",
    "> for string in pandas are operated under object data type."
   ]
  },
  {
   "cell_type": "markdown",
   "metadata": {},
   "source": [
    "#### Creating Series ?"
   ]
  },
  {
   "cell_type": "code",
   "execution_count": 2,
   "metadata": {},
   "outputs": [
    {
     "data": {
      "text/plain": [
       "0    45\n",
       "1    23\n",
       "2    98\n",
       "3    46\n",
       "4    12\n",
       "5     9\n",
       "6     1\n",
       "dtype: int64"
      ]
     },
     "execution_count": 2,
     "metadata": {},
     "output_type": "execute_result"
    }
   ],
   "source": [
    "ls = [45,23,98,46,12,9,1]\n",
    "s1 = pd.Series(ls)\n",
    "s1"
   ]
  },
  {
   "cell_type": "code",
   "execution_count": 3,
   "metadata": {},
   "outputs": [
    {
     "data": {
      "text/plain": [
       "RangeIndex(start=0, stop=7, step=1)"
      ]
     },
     "execution_count": 3,
     "metadata": {},
     "output_type": "execute_result"
    }
   ],
   "source": [
    "s1.index"
   ]
  },
  {
   "cell_type": "code",
   "execution_count": 4,
   "metadata": {},
   "outputs": [
    {
     "data": {
      "text/plain": [
       "array([45, 23, 98, 46, 12,  9,  1])"
      ]
     },
     "execution_count": 4,
     "metadata": {},
     "output_type": "execute_result"
    }
   ],
   "source": [
    "s1. values"
   ]
  },
  {
   "cell_type": "code",
   "execution_count": 5,
   "metadata": {},
   "outputs": [
    {
     "data": {
      "text/plain": [
       "0    Jan\n",
       "1    Feb\n",
       "2    Mar\n",
       "3    Apr\n",
       "4    May\n",
       "dtype: object"
      ]
     },
     "execution_count": 5,
     "metadata": {},
     "output_type": "execute_result"
    }
   ],
   "source": [
    "months = ['Jan', 'Feb', 'Mar', 'Apr', \"May\"]\n",
    "s2 = pd.Series(months)\n",
    "s2"
   ]
  },
  {
   "cell_type": "code",
   "execution_count": 6,
   "metadata": {},
   "outputs": [
    {
     "data": {
      "text/plain": [
       "Jan    31\n",
       "Feb    28\n",
       "Mar    31\n",
       "Apr    30\n",
       "May    31\n",
       "dtype: int64"
      ]
     },
     "execution_count": 6,
     "metadata": {},
     "output_type": "execute_result"
    }
   ],
   "source": [
    "dateOfMonths = pd.Series([31,28,31,30,31], index = ['Jan', 'Feb', 'Mar', 'Apr', \"May\"])\n",
    "dateOfMonths"
   ]
  },
  {
   "cell_type": "code",
   "execution_count": 7,
   "metadata": {},
   "outputs": [
    {
     "data": {
      "text/plain": [
       "Index(['Jan', 'Feb', 'Mar', 'Apr', 'May'], dtype='object')"
      ]
     },
     "execution_count": 7,
     "metadata": {},
     "output_type": "execute_result"
    }
   ],
   "source": [
    "dateOfMonths.index"
   ]
  },
  {
   "cell_type": "code",
   "execution_count": 8,
   "metadata": {},
   "outputs": [
    {
     "data": {
      "text/plain": [
       "array([31, 28, 31, 30, 31])"
      ]
     },
     "execution_count": 8,
     "metadata": {},
     "output_type": "execute_result"
    }
   ],
   "source": [
    "dateOfMonths.values"
   ]
  },
  {
   "cell_type": "code",
   "execution_count": 9,
   "metadata": {},
   "outputs": [
    {
     "data": {
      "text/plain": [
       "0    1\n",
       "1    2\n",
       "2    3\n",
       "3    4\n",
       "4    5\n",
       "5    6\n",
       "dtype: int64"
      ]
     },
     "execution_count": 9,
     "metadata": {},
     "output_type": "execute_result"
    }
   ],
   "source": [
    "s3 = pd.Series([1,2,3,4,5,6])\n",
    "s3"
   ]
  },
  {
   "cell_type": "code",
   "execution_count": 10,
   "metadata": {},
   "outputs": [
    {
     "data": {
      "text/plain": [
       "A    1\n",
       "B    2\n",
       "C    3\n",
       "D    4\n",
       "E    5\n",
       "F    6\n",
       "dtype: int64"
      ]
     },
     "execution_count": 10,
     "metadata": {},
     "output_type": "execute_result"
    }
   ],
   "source": [
    "s3.index = [\"A\",\"B\",\"C\",\"D\",\"E\",\"F\"]  #type:ignore\n",
    "s3"
   ]
  },
  {
   "cell_type": "markdown",
   "metadata": {},
   "source": [
    "#### Creating Dataframes?\n"
   ]
  },
  {
   "cell_type": "markdown",
   "metadata": {},
   "source": [
    "##### Dictionary of list to Df?"
   ]
  },
  {
   "cell_type": "code",
   "execution_count": 11,
   "metadata": {},
   "outputs": [],
   "source": [
    "dictOfList = {\n",
    "    \"name\":[\"ram\", 'sham', 'sita','gita','ramesh','suresh'],\n",
    "    'city':['Pune', 'satara', 'auragabad','mumbai','nagpur','kolhapur'],\n",
    "    'contact':[34553,76575,22433,98779,56455,23334],\n",
    "    'data_admin':['data_analytics', 'data_science','data_warehousing',\n",
    "                   'data_admin', 'big_data_analytics','data_engineering']\n",
    "}"
   ]
  },
  {
   "cell_type": "code",
   "execution_count": 12,
   "metadata": {},
   "outputs": [
    {
     "data": {
      "text/html": [
       "<div>\n",
       "<style scoped>\n",
       "    .dataframe tbody tr th:only-of-type {\n",
       "        vertical-align: middle;\n",
       "    }\n",
       "\n",
       "    .dataframe tbody tr th {\n",
       "        vertical-align: top;\n",
       "    }\n",
       "\n",
       "    .dataframe thead th {\n",
       "        text-align: right;\n",
       "    }\n",
       "</style>\n",
       "<table border=\"1\" class=\"dataframe\">\n",
       "  <thead>\n",
       "    <tr style=\"text-align: right;\">\n",
       "      <th></th>\n",
       "      <th>name</th>\n",
       "      <th>city</th>\n",
       "      <th>contact</th>\n",
       "      <th>data_admin</th>\n",
       "    </tr>\n",
       "  </thead>\n",
       "  <tbody>\n",
       "    <tr>\n",
       "      <th>0</th>\n",
       "      <td>ram</td>\n",
       "      <td>Pune</td>\n",
       "      <td>34553</td>\n",
       "      <td>data_analytics</td>\n",
       "    </tr>\n",
       "    <tr>\n",
       "      <th>1</th>\n",
       "      <td>sham</td>\n",
       "      <td>satara</td>\n",
       "      <td>76575</td>\n",
       "      <td>data_science</td>\n",
       "    </tr>\n",
       "    <tr>\n",
       "      <th>2</th>\n",
       "      <td>sita</td>\n",
       "      <td>auragabad</td>\n",
       "      <td>22433</td>\n",
       "      <td>data_warehousing</td>\n",
       "    </tr>\n",
       "    <tr>\n",
       "      <th>3</th>\n",
       "      <td>gita</td>\n",
       "      <td>mumbai</td>\n",
       "      <td>98779</td>\n",
       "      <td>data_admin</td>\n",
       "    </tr>\n",
       "    <tr>\n",
       "      <th>4</th>\n",
       "      <td>ramesh</td>\n",
       "      <td>nagpur</td>\n",
       "      <td>56455</td>\n",
       "      <td>big_data_analytics</td>\n",
       "    </tr>\n",
       "    <tr>\n",
       "      <th>5</th>\n",
       "      <td>suresh</td>\n",
       "      <td>kolhapur</td>\n",
       "      <td>23334</td>\n",
       "      <td>data_engineering</td>\n",
       "    </tr>\n",
       "  </tbody>\n",
       "</table>\n",
       "</div>"
      ],
      "text/plain": [
       "     name       city  contact          data_admin\n",
       "0     ram       Pune    34553      data_analytics\n",
       "1    sham     satara    76575        data_science\n",
       "2    sita  auragabad    22433    data_warehousing\n",
       "3    gita     mumbai    98779          data_admin\n",
       "4  ramesh     nagpur    56455  big_data_analytics\n",
       "5  suresh   kolhapur    23334    data_engineering"
      ]
     },
     "execution_count": 12,
     "metadata": {},
     "output_type": "execute_result"
    }
   ],
   "source": [
    "df1 = pd.DataFrame(dictOfList)\n",
    "df1"
   ]
  },
  {
   "cell_type": "markdown",
   "metadata": {},
   "source": [
    "##### List of Dictiionary to Df?"
   ]
  },
  {
   "cell_type": "code",
   "execution_count": 13,
   "metadata": {},
   "outputs": [
    {
     "data": {
      "text/html": [
       "<div>\n",
       "<style scoped>\n",
       "    .dataframe tbody tr th:only-of-type {\n",
       "        vertical-align: middle;\n",
       "    }\n",
       "\n",
       "    .dataframe tbody tr th {\n",
       "        vertical-align: top;\n",
       "    }\n",
       "\n",
       "    .dataframe thead th {\n",
       "        text-align: right;\n",
       "    }\n",
       "</style>\n",
       "<table border=\"1\" class=\"dataframe\">\n",
       "  <thead>\n",
       "    <tr style=\"text-align: right;\">\n",
       "      <th></th>\n",
       "      <th>Name</th>\n",
       "      <th>month</th>\n",
       "      <th>sales</th>\n",
       "    </tr>\n",
       "  </thead>\n",
       "  <tbody>\n",
       "    <tr>\n",
       "      <th>0</th>\n",
       "      <td>ram</td>\n",
       "      <td>january</td>\n",
       "      <td>56676</td>\n",
       "    </tr>\n",
       "    <tr>\n",
       "      <th>1</th>\n",
       "      <td>sham</td>\n",
       "      <td>january</td>\n",
       "      <td>54676</td>\n",
       "    </tr>\n",
       "    <tr>\n",
       "      <th>2</th>\n",
       "      <td>sita</td>\n",
       "      <td>february</td>\n",
       "      <td>89676</td>\n",
       "    </tr>\n",
       "  </tbody>\n",
       "</table>\n",
       "</div>"
      ],
      "text/plain": [
       "   Name     month  sales\n",
       "0   ram   january  56676\n",
       "1  sham   january  54676\n",
       "2  sita  february  89676"
      ]
     },
     "execution_count": 13,
     "metadata": {},
     "output_type": "execute_result"
    }
   ],
   "source": [
    "listOfDict =[\n",
    "    {'Name':\"ram\", 'month':'january','sales':56676},\n",
    "    {'Name': 'sham', 'month':'january', 'sales':54676},\n",
    "    {'Name':'sita', 'month':'february','sales': 89676}\n",
    "]\n",
    "\n",
    "df2 = pd.DataFrame(listOfDict)\n",
    "df2"
   ]
  },
  {
   "cell_type": "markdown",
   "metadata": {},
   "source": [
    "## Import .csv and .xlsx with pandas?\n"
   ]
  },
  {
   "cell_type": "markdown",
   "metadata": {},
   "source": [
    "##### What is the significance or \"r'()\"?\n",
    "using r'() helps accepting **forward slash(\"/\")** and if we remove r'() <br> we have to give address with **backward slash(\"\\\")** ."
   ]
  },
  {
   "cell_type": "code",
   "execution_count": 14,
   "metadata": {},
   "outputs": [
    {
     "data": {
      "text/html": [
       "<div>\n",
       "<style scoped>\n",
       "    .dataframe tbody tr th:only-of-type {\n",
       "        vertical-align: middle;\n",
       "    }\n",
       "\n",
       "    .dataframe tbody tr th {\n",
       "        vertical-align: top;\n",
       "    }\n",
       "\n",
       "    .dataframe thead th {\n",
       "        text-align: right;\n",
       "    }\n",
       "</style>\n",
       "<table border=\"1\" class=\"dataframe\">\n",
       "  <thead>\n",
       "    <tr style=\"text-align: right;\">\n",
       "      <th></th>\n",
       "      <th>ID</th>\n",
       "      <th>Name</th>\n",
       "      <th>Sales</th>\n",
       "    </tr>\n",
       "  </thead>\n",
       "  <tbody>\n",
       "    <tr>\n",
       "      <th>0</th>\n",
       "      <td>1</td>\n",
       "      <td>Ram</td>\n",
       "      <td>626000</td>\n",
       "    </tr>\n",
       "    <tr>\n",
       "      <th>1</th>\n",
       "      <td>2</td>\n",
       "      <td>Sham</td>\n",
       "      <td>567000</td>\n",
       "    </tr>\n",
       "    <tr>\n",
       "      <th>2</th>\n",
       "      <td>3</td>\n",
       "      <td>Sita</td>\n",
       "      <td>279000</td>\n",
       "    </tr>\n",
       "    <tr>\n",
       "      <th>3</th>\n",
       "      <td>4</td>\n",
       "      <td>Gita</td>\n",
       "      <td>765000</td>\n",
       "    </tr>\n",
       "    <tr>\n",
       "      <th>4</th>\n",
       "      <td>5</td>\n",
       "      <td>Ramesh</td>\n",
       "      <td>241000</td>\n",
       "    </tr>\n",
       "    <tr>\n",
       "      <th>5</th>\n",
       "      <td>6</td>\n",
       "      <td>Suresh</td>\n",
       "      <td>624000</td>\n",
       "    </tr>\n",
       "    <tr>\n",
       "      <th>6</th>\n",
       "      <td>7</td>\n",
       "      <td>Hema</td>\n",
       "      <td>196000</td>\n",
       "    </tr>\n",
       "    <tr>\n",
       "      <th>7</th>\n",
       "      <td>8</td>\n",
       "      <td>Rekha</td>\n",
       "      <td>708000</td>\n",
       "    </tr>\n",
       "    <tr>\n",
       "      <th>8</th>\n",
       "      <td>9</td>\n",
       "      <td>Jaya</td>\n",
       "      <td>867000</td>\n",
       "    </tr>\n",
       "    <tr>\n",
       "      <th>9</th>\n",
       "      <td>10</td>\n",
       "      <td>Sushma</td>\n",
       "      <td>957000</td>\n",
       "    </tr>\n",
       "  </tbody>\n",
       "</table>\n",
       "</div>"
      ],
      "text/plain": [
       "   ID    Name   Sales\n",
       "0   1     Ram  626000\n",
       "1   2    Sham  567000\n",
       "2   3    Sita  279000\n",
       "3   4    Gita  765000\n",
       "4   5  Ramesh  241000\n",
       "5   6  Suresh  624000\n",
       "6   7    Hema  196000\n",
       "7   8   Rekha  708000\n",
       "8   9    Jaya  867000\n",
       "9  10  Sushma  957000"
      ]
     },
     "execution_count": 14,
     "metadata": {},
     "output_type": "execute_result"
    }
   ],
   "source": [
    "df4 = pd.read_csv(r'files/csv_file.csv')\n",
    "df4"
   ]
  },
  {
   "cell_type": "code",
   "execution_count": 15,
   "metadata": {},
   "outputs": [
    {
     "data": {
      "text/html": [
       "<div>\n",
       "<style scoped>\n",
       "    .dataframe tbody tr th:only-of-type {\n",
       "        vertical-align: middle;\n",
       "    }\n",
       "\n",
       "    .dataframe tbody tr th {\n",
       "        vertical-align: top;\n",
       "    }\n",
       "\n",
       "    .dataframe thead th {\n",
       "        text-align: right;\n",
       "    }\n",
       "</style>\n",
       "<table border=\"1\" class=\"dataframe\">\n",
       "  <thead>\n",
       "    <tr style=\"text-align: right;\">\n",
       "      <th></th>\n",
       "      <th>ID</th>\n",
       "      <th>Name</th>\n",
       "      <th>City</th>\n",
       "      <th>Course</th>\n",
       "    </tr>\n",
       "  </thead>\n",
       "  <tbody>\n",
       "    <tr>\n",
       "      <th>0</th>\n",
       "      <td>1</td>\n",
       "      <td>Ram</td>\n",
       "      <td>Mumbai</td>\n",
       "      <td>DA</td>\n",
       "    </tr>\n",
       "    <tr>\n",
       "      <th>1</th>\n",
       "      <td>2</td>\n",
       "      <td>Sham</td>\n",
       "      <td>Pune</td>\n",
       "      <td>DS</td>\n",
       "    </tr>\n",
       "    <tr>\n",
       "      <th>2</th>\n",
       "      <td>3</td>\n",
       "      <td>Sita</td>\n",
       "      <td>Mumbai</td>\n",
       "      <td>DS</td>\n",
       "    </tr>\n",
       "    <tr>\n",
       "      <th>3</th>\n",
       "      <td>4</td>\n",
       "      <td>Gita</td>\n",
       "      <td>Aurangabad</td>\n",
       "      <td>DS</td>\n",
       "    </tr>\n",
       "    <tr>\n",
       "      <th>4</th>\n",
       "      <td>5</td>\n",
       "      <td>Ramesh</td>\n",
       "      <td>Nagpur</td>\n",
       "      <td>DA</td>\n",
       "    </tr>\n",
       "    <tr>\n",
       "      <th>5</th>\n",
       "      <td>6</td>\n",
       "      <td>Suresh</td>\n",
       "      <td>Satara</td>\n",
       "      <td>DS</td>\n",
       "    </tr>\n",
       "    <tr>\n",
       "      <th>6</th>\n",
       "      <td>7</td>\n",
       "      <td>Hema</td>\n",
       "      <td>Satara</td>\n",
       "      <td>DS</td>\n",
       "    </tr>\n",
       "    <tr>\n",
       "      <th>7</th>\n",
       "      <td>8</td>\n",
       "      <td>Rekha</td>\n",
       "      <td>Pune</td>\n",
       "      <td>DA</td>\n",
       "    </tr>\n",
       "    <tr>\n",
       "      <th>8</th>\n",
       "      <td>9</td>\n",
       "      <td>Jaya</td>\n",
       "      <td>Aurangabad</td>\n",
       "      <td>DA</td>\n",
       "    </tr>\n",
       "    <tr>\n",
       "      <th>9</th>\n",
       "      <td>10</td>\n",
       "      <td>Sushma</td>\n",
       "      <td>Nagpur</td>\n",
       "      <td>DA</td>\n",
       "    </tr>\n",
       "  </tbody>\n",
       "</table>\n",
       "</div>"
      ],
      "text/plain": [
       "   ID    Name        City Course\n",
       "0   1     Ram      Mumbai     DA\n",
       "1   2    Sham        Pune     DS\n",
       "2   3    Sita      Mumbai     DS\n",
       "3   4    Gita  Aurangabad     DS\n",
       "4   5  Ramesh      Nagpur     DA\n",
       "5   6  Suresh      Satara     DS\n",
       "6   7    Hema      Satara     DS\n",
       "7   8   Rekha        Pune     DA\n",
       "8   9    Jaya  Aurangabad     DA\n",
       "9  10  Sushma      Nagpur     DA"
      ]
     },
     "execution_count": 15,
     "metadata": {},
     "output_type": "execute_result"
    }
   ],
   "source": [
    "df5 = pd.read_excel(r'files/excel_file.xlsx')\n",
    "df5"
   ]
  },
  {
   "cell_type": "markdown",
   "metadata": {},
   "source": [
    "# **26.06.2024 Class 12**"
   ]
  },
  {
   "cell_type": "markdown",
   "metadata": {},
   "source": [
    "# Methods of Pandas?"
   ]
  },
  {
   "cell_type": "markdown",
   "metadata": {},
   "source": [
    "### How to Avoiding warnings?"
   ]
  },
  {
   "cell_type": "code",
   "execution_count": 16,
   "metadata": {},
   "outputs": [],
   "source": [
    "from logging import warning\n",
    "import warnings\n",
    "\n",
    "warnings.filterwarnings(\"ignore\")"
   ]
  },
  {
   "cell_type": "code",
   "execution_count": 17,
   "metadata": {},
   "outputs": [],
   "source": [
    "# importing data to use\n",
    "df = pd.read_excel(r\"files/SampleSuperstore.xlsx\")"
   ]
  },
  {
   "cell_type": "markdown",
   "metadata": {},
   "source": [
    "## Head()?\n",
    "Gives out first 5 rows of df  as output"
   ]
  },
  {
   "cell_type": "code",
   "execution_count": 18,
   "metadata": {},
   "outputs": [
    {
     "data": {
      "text/html": [
       "<div>\n",
       "<style scoped>\n",
       "    .dataframe tbody tr th:only-of-type {\n",
       "        vertical-align: middle;\n",
       "    }\n",
       "\n",
       "    .dataframe tbody tr th {\n",
       "        vertical-align: top;\n",
       "    }\n",
       "\n",
       "    .dataframe thead th {\n",
       "        text-align: right;\n",
       "    }\n",
       "</style>\n",
       "<table border=\"1\" class=\"dataframe\">\n",
       "  <thead>\n",
       "    <tr style=\"text-align: right;\">\n",
       "      <th></th>\n",
       "      <th>Row ID</th>\n",
       "      <th>Order ID</th>\n",
       "      <th>Order Date</th>\n",
       "      <th>Ship Date</th>\n",
       "      <th>Ship Mode</th>\n",
       "      <th>Customer ID</th>\n",
       "      <th>Customer Name</th>\n",
       "      <th>Segment</th>\n",
       "      <th>City</th>\n",
       "      <th>State</th>\n",
       "      <th>Postal Code</th>\n",
       "      <th>Region</th>\n",
       "      <th>Product ID</th>\n",
       "      <th>Category</th>\n",
       "      <th>Sub-Category</th>\n",
       "      <th>Product Name</th>\n",
       "      <th>Sales</th>\n",
       "      <th>Quantity</th>\n",
       "      <th>Discount</th>\n",
       "      <th>Profit</th>\n",
       "    </tr>\n",
       "  </thead>\n",
       "  <tbody>\n",
       "    <tr>\n",
       "      <th>0</th>\n",
       "      <td>1</td>\n",
       "      <td>CA-2017-152156</td>\n",
       "      <td>2017-11-08</td>\n",
       "      <td>2017-11-11</td>\n",
       "      <td>Second Class</td>\n",
       "      <td>CG-12520</td>\n",
       "      <td>Claire Gute</td>\n",
       "      <td>Consumer</td>\n",
       "      <td>Henderson</td>\n",
       "      <td>Kentucky</td>\n",
       "      <td>42420.0</td>\n",
       "      <td>South</td>\n",
       "      <td>FUR-BO-10001798</td>\n",
       "      <td>Furniture</td>\n",
       "      <td>Bookcases</td>\n",
       "      <td>Bush Somerset Collection Bookcase</td>\n",
       "      <td>261.96</td>\n",
       "      <td>2</td>\n",
       "      <td>0.0</td>\n",
       "      <td>41.9136</td>\n",
       "    </tr>\n",
       "    <tr>\n",
       "      <th>1</th>\n",
       "      <td>2</td>\n",
       "      <td>CA-2017-152156</td>\n",
       "      <td>2017-11-08</td>\n",
       "      <td>2017-11-11</td>\n",
       "      <td>Second Class</td>\n",
       "      <td>CG-12520</td>\n",
       "      <td>Claire Gute</td>\n",
       "      <td>Consumer</td>\n",
       "      <td>Henderson</td>\n",
       "      <td>Kentucky</td>\n",
       "      <td>42420.0</td>\n",
       "      <td>South</td>\n",
       "      <td>FUR-CH-10000454</td>\n",
       "      <td>Furniture</td>\n",
       "      <td>Chairs</td>\n",
       "      <td>Hon Deluxe Fabric Upholstered Stacking Chairs,...</td>\n",
       "      <td>731.94</td>\n",
       "      <td>3</td>\n",
       "      <td>0.0</td>\n",
       "      <td>219.5820</td>\n",
       "    </tr>\n",
       "  </tbody>\n",
       "</table>\n",
       "</div>"
      ],
      "text/plain": [
       "   Row ID        Order ID Order Date  Ship Date     Ship Mode Customer ID  \\\n",
       "0       1  CA-2017-152156 2017-11-08 2017-11-11  Second Class    CG-12520   \n",
       "1       2  CA-2017-152156 2017-11-08 2017-11-11  Second Class    CG-12520   \n",
       "\n",
       "  Customer Name   Segment       City     State  Postal Code Region  \\\n",
       "0   Claire Gute  Consumer  Henderson  Kentucky      42420.0  South   \n",
       "1   Claire Gute  Consumer  Henderson  Kentucky      42420.0  South   \n",
       "\n",
       "        Product ID   Category Sub-Category  \\\n",
       "0  FUR-BO-10001798  Furniture    Bookcases   \n",
       "1  FUR-CH-10000454  Furniture       Chairs   \n",
       "\n",
       "                                        Product Name   Sales  Quantity  \\\n",
       "0                  Bush Somerset Collection Bookcase  261.96         2   \n",
       "1  Hon Deluxe Fabric Upholstered Stacking Chairs,...  731.94         3   \n",
       "\n",
       "   Discount    Profit  \n",
       "0       0.0   41.9136  \n",
       "1       0.0  219.5820  "
      ]
     },
     "execution_count": 18,
     "metadata": {},
     "output_type": "execute_result"
    }
   ],
   "source": [
    "df.head(2)"
   ]
  },
  {
   "cell_type": "markdown",
   "metadata": {},
   "source": [
    "## tail()?\n",
    "Gives out last 5 rows of df  as output"
   ]
  },
  {
   "cell_type": "code",
   "execution_count": 19,
   "metadata": {},
   "outputs": [
    {
     "data": {
      "text/html": [
       "<div>\n",
       "<style scoped>\n",
       "    .dataframe tbody tr th:only-of-type {\n",
       "        vertical-align: middle;\n",
       "    }\n",
       "\n",
       "    .dataframe tbody tr th {\n",
       "        vertical-align: top;\n",
       "    }\n",
       "\n",
       "    .dataframe thead th {\n",
       "        text-align: right;\n",
       "    }\n",
       "</style>\n",
       "<table border=\"1\" class=\"dataframe\">\n",
       "  <thead>\n",
       "    <tr style=\"text-align: right;\">\n",
       "      <th></th>\n",
       "      <th>Row ID</th>\n",
       "      <th>Order ID</th>\n",
       "      <th>Order Date</th>\n",
       "      <th>Ship Date</th>\n",
       "      <th>Ship Mode</th>\n",
       "      <th>Customer ID</th>\n",
       "      <th>Customer Name</th>\n",
       "      <th>Segment</th>\n",
       "      <th>City</th>\n",
       "      <th>State</th>\n",
       "      <th>Postal Code</th>\n",
       "      <th>Region</th>\n",
       "      <th>Product ID</th>\n",
       "      <th>Category</th>\n",
       "      <th>Sub-Category</th>\n",
       "      <th>Product Name</th>\n",
       "      <th>Sales</th>\n",
       "      <th>Quantity</th>\n",
       "      <th>Discount</th>\n",
       "      <th>Profit</th>\n",
       "    </tr>\n",
       "  </thead>\n",
       "  <tbody>\n",
       "    <tr>\n",
       "      <th>9992</th>\n",
       "      <td>9993</td>\n",
       "      <td>CA-2018-121258</td>\n",
       "      <td>2018-02-26</td>\n",
       "      <td>2018-03-03</td>\n",
       "      <td>Standard Class</td>\n",
       "      <td>DB-13060</td>\n",
       "      <td>Dave Brooks</td>\n",
       "      <td>Consumer</td>\n",
       "      <td>Costa Mesa</td>\n",
       "      <td>California</td>\n",
       "      <td>92627.0</td>\n",
       "      <td>West</td>\n",
       "      <td>OFF-PA-10004041</td>\n",
       "      <td>Office Supplies</td>\n",
       "      <td>Paper</td>\n",
       "      <td>It's Hot Message Books with Stickers, 2 3/4\" x 5\"</td>\n",
       "      <td>29.60</td>\n",
       "      <td>4</td>\n",
       "      <td>0.0</td>\n",
       "      <td>13.320</td>\n",
       "    </tr>\n",
       "    <tr>\n",
       "      <th>9993</th>\n",
       "      <td>9994</td>\n",
       "      <td>CA-2018-119914</td>\n",
       "      <td>2018-05-04</td>\n",
       "      <td>2018-05-09</td>\n",
       "      <td>Second Class</td>\n",
       "      <td>CC-12220</td>\n",
       "      <td>Chris Cortes</td>\n",
       "      <td>Consumer</td>\n",
       "      <td>Westminster</td>\n",
       "      <td>California</td>\n",
       "      <td>92683.0</td>\n",
       "      <td>West</td>\n",
       "      <td>OFF-AP-10002684</td>\n",
       "      <td>Office Supplies</td>\n",
       "      <td>Appliances</td>\n",
       "      <td>Acco 7-Outlet Masterpiece Power Center, Wihtou...</td>\n",
       "      <td>243.16</td>\n",
       "      <td>2</td>\n",
       "      <td>0.0</td>\n",
       "      <td>72.948</td>\n",
       "    </tr>\n",
       "  </tbody>\n",
       "</table>\n",
       "</div>"
      ],
      "text/plain": [
       "      Row ID        Order ID Order Date  Ship Date       Ship Mode  \\\n",
       "9992    9993  CA-2018-121258 2018-02-26 2018-03-03  Standard Class   \n",
       "9993    9994  CA-2018-119914 2018-05-04 2018-05-09    Second Class   \n",
       "\n",
       "     Customer ID Customer Name   Segment         City       State  \\\n",
       "9992    DB-13060   Dave Brooks  Consumer   Costa Mesa  California   \n",
       "9993    CC-12220  Chris Cortes  Consumer  Westminster  California   \n",
       "\n",
       "      Postal Code Region       Product ID         Category Sub-Category  \\\n",
       "9992      92627.0   West  OFF-PA-10004041  Office Supplies        Paper   \n",
       "9993      92683.0   West  OFF-AP-10002684  Office Supplies   Appliances   \n",
       "\n",
       "                                           Product Name   Sales  Quantity  \\\n",
       "9992  It's Hot Message Books with Stickers, 2 3/4\" x 5\"   29.60         4   \n",
       "9993  Acco 7-Outlet Masterpiece Power Center, Wihtou...  243.16         2   \n",
       "\n",
       "      Discount  Profit  \n",
       "9992       0.0  13.320  \n",
       "9993       0.0  72.948  "
      ]
     },
     "execution_count": 19,
     "metadata": {},
     "output_type": "execute_result"
    }
   ],
   "source": [
    "df.tail(2)"
   ]
  },
  {
   "cell_type": "markdown",
   "metadata": {},
   "source": [
    "## sample()?\n",
    "Returns randomly selected rows from dataframe."
   ]
  },
  {
   "cell_type": "code",
   "execution_count": 20,
   "metadata": {},
   "outputs": [
    {
     "data": {
      "text/html": [
       "<div>\n",
       "<style scoped>\n",
       "    .dataframe tbody tr th:only-of-type {\n",
       "        vertical-align: middle;\n",
       "    }\n",
       "\n",
       "    .dataframe tbody tr th {\n",
       "        vertical-align: top;\n",
       "    }\n",
       "\n",
       "    .dataframe thead th {\n",
       "        text-align: right;\n",
       "    }\n",
       "</style>\n",
       "<table border=\"1\" class=\"dataframe\">\n",
       "  <thead>\n",
       "    <tr style=\"text-align: right;\">\n",
       "      <th></th>\n",
       "      <th>Row ID</th>\n",
       "      <th>Order ID</th>\n",
       "      <th>Order Date</th>\n",
       "      <th>Ship Date</th>\n",
       "      <th>Ship Mode</th>\n",
       "      <th>Customer ID</th>\n",
       "      <th>Customer Name</th>\n",
       "      <th>Segment</th>\n",
       "      <th>City</th>\n",
       "      <th>State</th>\n",
       "      <th>Postal Code</th>\n",
       "      <th>Region</th>\n",
       "      <th>Product ID</th>\n",
       "      <th>Category</th>\n",
       "      <th>Sub-Category</th>\n",
       "      <th>Product Name</th>\n",
       "      <th>Sales</th>\n",
       "      <th>Quantity</th>\n",
       "      <th>Discount</th>\n",
       "      <th>Profit</th>\n",
       "    </tr>\n",
       "  </thead>\n",
       "  <tbody>\n",
       "    <tr>\n",
       "      <th>8406</th>\n",
       "      <td>8407</td>\n",
       "      <td>CA-2018-140480</td>\n",
       "      <td>2018-07-08</td>\n",
       "      <td>2018-07-12</td>\n",
       "      <td>Standard Class</td>\n",
       "      <td>HE-14800</td>\n",
       "      <td>Harold Engle</td>\n",
       "      <td>Corporate</td>\n",
       "      <td>Newark</td>\n",
       "      <td>Delaware</td>\n",
       "      <td>19711.0</td>\n",
       "      <td>East</td>\n",
       "      <td>FUR-FU-10001057</td>\n",
       "      <td>Furniture</td>\n",
       "      <td>Furnishings</td>\n",
       "      <td>Tensor Track Tree Floor Lamp</td>\n",
       "      <td>39.980</td>\n",
       "      <td>2</td>\n",
       "      <td>0.0</td>\n",
       "      <td>9.1954</td>\n",
       "    </tr>\n",
       "    <tr>\n",
       "      <th>8169</th>\n",
       "      <td>8170</td>\n",
       "      <td>CA-2018-107174</td>\n",
       "      <td>2018-11-06</td>\n",
       "      <td>2018-11-13</td>\n",
       "      <td>Standard Class</td>\n",
       "      <td>AB-10060</td>\n",
       "      <td>Adam Bellavance</td>\n",
       "      <td>Home Office</td>\n",
       "      <td>Seattle</td>\n",
       "      <td>Washington</td>\n",
       "      <td>98105.0</td>\n",
       "      <td>West</td>\n",
       "      <td>FUR-CH-10003312</td>\n",
       "      <td>Furniture</td>\n",
       "      <td>Chairs</td>\n",
       "      <td>Hon 2090 “Pillow Soft” Series Mid Back Swivel/...</td>\n",
       "      <td>449.568</td>\n",
       "      <td>2</td>\n",
       "      <td>0.2</td>\n",
       "      <td>-73.0548</td>\n",
       "    </tr>\n",
       "  </tbody>\n",
       "</table>\n",
       "</div>"
      ],
      "text/plain": [
       "      Row ID        Order ID Order Date  Ship Date       Ship Mode  \\\n",
       "8406    8407  CA-2018-140480 2018-07-08 2018-07-12  Standard Class   \n",
       "8169    8170  CA-2018-107174 2018-11-06 2018-11-13  Standard Class   \n",
       "\n",
       "     Customer ID    Customer Name      Segment     City       State  \\\n",
       "8406    HE-14800     Harold Engle    Corporate   Newark    Delaware   \n",
       "8169    AB-10060  Adam Bellavance  Home Office  Seattle  Washington   \n",
       "\n",
       "      Postal Code Region       Product ID   Category Sub-Category  \\\n",
       "8406      19711.0   East  FUR-FU-10001057  Furniture  Furnishings   \n",
       "8169      98105.0   West  FUR-CH-10003312  Furniture       Chairs   \n",
       "\n",
       "                                           Product Name    Sales  Quantity  \\\n",
       "8406                       Tensor Track Tree Floor Lamp   39.980         2   \n",
       "8169  Hon 2090 “Pillow Soft” Series Mid Back Swivel/...  449.568         2   \n",
       "\n",
       "      Discount   Profit  \n",
       "8406       0.0   9.1954  \n",
       "8169       0.2 -73.0548  "
      ]
     },
     "execution_count": 20,
     "metadata": {},
     "output_type": "execute_result"
    }
   ],
   "source": [
    "df.sample(2)"
   ]
  },
  {
   "cell_type": "markdown",
   "metadata": {},
   "source": [
    "## info()?\n",
    "> always count non-values properly"
   ]
  },
  {
   "cell_type": "code",
   "execution_count": 21,
   "metadata": {},
   "outputs": [
    {
     "name": "stdout",
     "output_type": "stream",
     "text": [
      "<class 'pandas.core.frame.DataFrame'>\n",
      "RangeIndex: 9994 entries, 0 to 9993\n",
      "Data columns (total 20 columns):\n",
      " #   Column         Non-Null Count  Dtype         \n",
      "---  ------         --------------  -----         \n",
      " 0   Row ID         9994 non-null   int64         \n",
      " 1   Order ID       9994 non-null   object        \n",
      " 2   Order Date     9994 non-null   datetime64[ns]\n",
      " 3   Ship Date      9994 non-null   datetime64[ns]\n",
      " 4   Ship Mode      9994 non-null   object        \n",
      " 5   Customer ID    9994 non-null   object        \n",
      " 6   Customer Name  9994 non-null   object        \n",
      " 7   Segment        9994 non-null   object        \n",
      " 8   City           9994 non-null   object        \n",
      " 9   State          9994 non-null   object        \n",
      " 10  Postal Code    9983 non-null   float64       \n",
      " 11  Region         9994 non-null   object        \n",
      " 12  Product ID     9994 non-null   object        \n",
      " 13  Category       9994 non-null   object        \n",
      " 14  Sub-Category   9994 non-null   object        \n",
      " 15  Product Name   9994 non-null   object        \n",
      " 16  Sales          9994 non-null   float64       \n",
      " 17  Quantity       9994 non-null   int64         \n",
      " 18  Discount       9994 non-null   float64       \n",
      " 19  Profit         9994 non-null   float64       \n",
      "dtypes: datetime64[ns](2), float64(4), int64(2), object(12)\n",
      "memory usage: 1.5+ MB\n"
     ]
    }
   ],
   "source": [
    "df.info()"
   ]
  },
  {
   "cell_type": "markdown",
   "metadata": {},
   "source": [
    "## isna()? \n",
    "to find na values column wise"
   ]
  },
  {
   "cell_type": "code",
   "execution_count": 22,
   "metadata": {},
   "outputs": [
    {
     "data": {
      "text/plain": [
       "Row ID            0\n",
       "Order ID          0\n",
       "Order Date        0\n",
       "Ship Date         0\n",
       "Ship Mode         0\n",
       "Customer ID       0\n",
       "Customer Name     0\n",
       "Segment           0\n",
       "City              0\n",
       "State             0\n",
       "Postal Code      11\n",
       "Region            0\n",
       "Product ID        0\n",
       "Category          0\n",
       "Sub-Category      0\n",
       "Product Name      0\n",
       "Sales             0\n",
       "Quantity          0\n",
       "Discount          0\n",
       "Profit            0\n",
       "dtype: int64"
      ]
     },
     "execution_count": 22,
     "metadata": {},
     "output_type": "execute_result"
    }
   ],
   "source": [
    "df.isna().sum()"
   ]
  },
  {
   "cell_type": "markdown",
   "metadata": {},
   "source": [
    "## dropna()?\n",
    "Used to drop rows with \"na\" values\n",
    "- ---------- study it's parameters \n",
    "\n"
   ]
  },
  {
   "cell_type": "code",
   "execution_count": 23,
   "metadata": {},
   "outputs": [
    {
     "data": {
      "text/html": [
       "<div>\n",
       "<style scoped>\n",
       "    .dataframe tbody tr th:only-of-type {\n",
       "        vertical-align: middle;\n",
       "    }\n",
       "\n",
       "    .dataframe tbody tr th {\n",
       "        vertical-align: top;\n",
       "    }\n",
       "\n",
       "    .dataframe thead th {\n",
       "        text-align: right;\n",
       "    }\n",
       "</style>\n",
       "<table border=\"1\" class=\"dataframe\">\n",
       "  <thead>\n",
       "    <tr style=\"text-align: right;\">\n",
       "      <th></th>\n",
       "      <th>Row ID</th>\n",
       "      <th>Order ID</th>\n",
       "      <th>Order Date</th>\n",
       "      <th>Ship Date</th>\n",
       "      <th>Ship Mode</th>\n",
       "      <th>Customer ID</th>\n",
       "      <th>Customer Name</th>\n",
       "      <th>Segment</th>\n",
       "      <th>City</th>\n",
       "      <th>State</th>\n",
       "      <th>Postal Code</th>\n",
       "      <th>Region</th>\n",
       "      <th>Product ID</th>\n",
       "      <th>Category</th>\n",
       "      <th>Sub-Category</th>\n",
       "      <th>Product Name</th>\n",
       "      <th>Sales</th>\n",
       "      <th>Quantity</th>\n",
       "      <th>Discount</th>\n",
       "      <th>Profit</th>\n",
       "    </tr>\n",
       "  </thead>\n",
       "  <tbody>\n",
       "    <tr>\n",
       "      <th>0</th>\n",
       "      <td>1</td>\n",
       "      <td>CA-2017-152156</td>\n",
       "      <td>2017-11-08</td>\n",
       "      <td>2017-11-11</td>\n",
       "      <td>Second Class</td>\n",
       "      <td>CG-12520</td>\n",
       "      <td>Claire Gute</td>\n",
       "      <td>Consumer</td>\n",
       "      <td>Henderson</td>\n",
       "      <td>Kentucky</td>\n",
       "      <td>42420.0</td>\n",
       "      <td>South</td>\n",
       "      <td>FUR-BO-10001798</td>\n",
       "      <td>Furniture</td>\n",
       "      <td>Bookcases</td>\n",
       "      <td>Bush Somerset Collection Bookcase</td>\n",
       "      <td>261.9600</td>\n",
       "      <td>2</td>\n",
       "      <td>0.00</td>\n",
       "      <td>41.9136</td>\n",
       "    </tr>\n",
       "    <tr>\n",
       "      <th>1</th>\n",
       "      <td>2</td>\n",
       "      <td>CA-2017-152156</td>\n",
       "      <td>2017-11-08</td>\n",
       "      <td>2017-11-11</td>\n",
       "      <td>Second Class</td>\n",
       "      <td>CG-12520</td>\n",
       "      <td>Claire Gute</td>\n",
       "      <td>Consumer</td>\n",
       "      <td>Henderson</td>\n",
       "      <td>Kentucky</td>\n",
       "      <td>42420.0</td>\n",
       "      <td>South</td>\n",
       "      <td>FUR-CH-10000454</td>\n",
       "      <td>Furniture</td>\n",
       "      <td>Chairs</td>\n",
       "      <td>Hon Deluxe Fabric Upholstered Stacking Chairs,...</td>\n",
       "      <td>731.9400</td>\n",
       "      <td>3</td>\n",
       "      <td>0.00</td>\n",
       "      <td>219.5820</td>\n",
       "    </tr>\n",
       "    <tr>\n",
       "      <th>2</th>\n",
       "      <td>3</td>\n",
       "      <td>CA-2017-138688</td>\n",
       "      <td>2017-06-12</td>\n",
       "      <td>2017-06-16</td>\n",
       "      <td>Second Class</td>\n",
       "      <td>DV-13045</td>\n",
       "      <td>Darrin Van Huff</td>\n",
       "      <td>Corporate</td>\n",
       "      <td>Los Angeles</td>\n",
       "      <td>California</td>\n",
       "      <td>90036.0</td>\n",
       "      <td>West</td>\n",
       "      <td>OFF-LA-10000240</td>\n",
       "      <td>Office Supplies</td>\n",
       "      <td>Labels</td>\n",
       "      <td>Self-Adhesive Address Labels for Typewriters b...</td>\n",
       "      <td>14.6200</td>\n",
       "      <td>2</td>\n",
       "      <td>0.00</td>\n",
       "      <td>6.8714</td>\n",
       "    </tr>\n",
       "    <tr>\n",
       "      <th>3</th>\n",
       "      <td>4</td>\n",
       "      <td>US-2016-108966</td>\n",
       "      <td>2016-10-11</td>\n",
       "      <td>2016-10-18</td>\n",
       "      <td>Standard Class</td>\n",
       "      <td>SO-20335</td>\n",
       "      <td>Sean O'Donnell</td>\n",
       "      <td>Consumer</td>\n",
       "      <td>Fort Lauderdale</td>\n",
       "      <td>Florida</td>\n",
       "      <td>33311.0</td>\n",
       "      <td>South</td>\n",
       "      <td>FUR-TA-10000577</td>\n",
       "      <td>Furniture</td>\n",
       "      <td>Tables</td>\n",
       "      <td>Bretford CR4500 Series Slim Rectangular Table</td>\n",
       "      <td>957.5775</td>\n",
       "      <td>5</td>\n",
       "      <td>0.45</td>\n",
       "      <td>-383.0310</td>\n",
       "    </tr>\n",
       "    <tr>\n",
       "      <th>4</th>\n",
       "      <td>5</td>\n",
       "      <td>US-2016-108966</td>\n",
       "      <td>2016-10-11</td>\n",
       "      <td>2016-10-18</td>\n",
       "      <td>Standard Class</td>\n",
       "      <td>SO-20335</td>\n",
       "      <td>Sean O'Donnell</td>\n",
       "      <td>Consumer</td>\n",
       "      <td>Fort Lauderdale</td>\n",
       "      <td>Florida</td>\n",
       "      <td>33311.0</td>\n",
       "      <td>South</td>\n",
       "      <td>OFF-ST-10000760</td>\n",
       "      <td>Office Supplies</td>\n",
       "      <td>Storage</td>\n",
       "      <td>Eldon Fold 'N Roll Cart System</td>\n",
       "      <td>22.3680</td>\n",
       "      <td>2</td>\n",
       "      <td>0.20</td>\n",
       "      <td>2.5164</td>\n",
       "    </tr>\n",
       "    <tr>\n",
       "      <th>...</th>\n",
       "      <td>...</td>\n",
       "      <td>...</td>\n",
       "      <td>...</td>\n",
       "      <td>...</td>\n",
       "      <td>...</td>\n",
       "      <td>...</td>\n",
       "      <td>...</td>\n",
       "      <td>...</td>\n",
       "      <td>...</td>\n",
       "      <td>...</td>\n",
       "      <td>...</td>\n",
       "      <td>...</td>\n",
       "      <td>...</td>\n",
       "      <td>...</td>\n",
       "      <td>...</td>\n",
       "      <td>...</td>\n",
       "      <td>...</td>\n",
       "      <td>...</td>\n",
       "      <td>...</td>\n",
       "      <td>...</td>\n",
       "    </tr>\n",
       "    <tr>\n",
       "      <th>9989</th>\n",
       "      <td>9990</td>\n",
       "      <td>CA-2015-110422</td>\n",
       "      <td>2015-01-21</td>\n",
       "      <td>2015-01-23</td>\n",
       "      <td>Second Class</td>\n",
       "      <td>TB-21400</td>\n",
       "      <td>Tom Boeckenhauer</td>\n",
       "      <td>Consumer</td>\n",
       "      <td>Miami</td>\n",
       "      <td>Florida</td>\n",
       "      <td>33180.0</td>\n",
       "      <td>South</td>\n",
       "      <td>FUR-FU-10001889</td>\n",
       "      <td>Furniture</td>\n",
       "      <td>Furnishings</td>\n",
       "      <td>Ultra Door Pull Handle</td>\n",
       "      <td>25.2480</td>\n",
       "      <td>3</td>\n",
       "      <td>0.20</td>\n",
       "      <td>4.1028</td>\n",
       "    </tr>\n",
       "    <tr>\n",
       "      <th>9990</th>\n",
       "      <td>9991</td>\n",
       "      <td>CA-2018-121258</td>\n",
       "      <td>2018-02-26</td>\n",
       "      <td>2018-03-03</td>\n",
       "      <td>Standard Class</td>\n",
       "      <td>DB-13060</td>\n",
       "      <td>Dave Brooks</td>\n",
       "      <td>Consumer</td>\n",
       "      <td>Costa Mesa</td>\n",
       "      <td>California</td>\n",
       "      <td>92627.0</td>\n",
       "      <td>West</td>\n",
       "      <td>FUR-FU-10000747</td>\n",
       "      <td>Furniture</td>\n",
       "      <td>Furnishings</td>\n",
       "      <td>Tenex B1-RE Series Chair Mats for Low Pile Car...</td>\n",
       "      <td>91.9600</td>\n",
       "      <td>2</td>\n",
       "      <td>0.00</td>\n",
       "      <td>15.6332</td>\n",
       "    </tr>\n",
       "    <tr>\n",
       "      <th>9991</th>\n",
       "      <td>9992</td>\n",
       "      <td>CA-2018-121258</td>\n",
       "      <td>2018-02-26</td>\n",
       "      <td>2018-03-03</td>\n",
       "      <td>Standard Class</td>\n",
       "      <td>DB-13060</td>\n",
       "      <td>Dave Brooks</td>\n",
       "      <td>Consumer</td>\n",
       "      <td>Costa Mesa</td>\n",
       "      <td>California</td>\n",
       "      <td>92627.0</td>\n",
       "      <td>West</td>\n",
       "      <td>TEC-PH-10003645</td>\n",
       "      <td>Technology</td>\n",
       "      <td>Phones</td>\n",
       "      <td>Aastra 57i VoIP phone</td>\n",
       "      <td>258.5760</td>\n",
       "      <td>2</td>\n",
       "      <td>0.20</td>\n",
       "      <td>19.3932</td>\n",
       "    </tr>\n",
       "    <tr>\n",
       "      <th>9992</th>\n",
       "      <td>9993</td>\n",
       "      <td>CA-2018-121258</td>\n",
       "      <td>2018-02-26</td>\n",
       "      <td>2018-03-03</td>\n",
       "      <td>Standard Class</td>\n",
       "      <td>DB-13060</td>\n",
       "      <td>Dave Brooks</td>\n",
       "      <td>Consumer</td>\n",
       "      <td>Costa Mesa</td>\n",
       "      <td>California</td>\n",
       "      <td>92627.0</td>\n",
       "      <td>West</td>\n",
       "      <td>OFF-PA-10004041</td>\n",
       "      <td>Office Supplies</td>\n",
       "      <td>Paper</td>\n",
       "      <td>It's Hot Message Books with Stickers, 2 3/4\" x 5\"</td>\n",
       "      <td>29.6000</td>\n",
       "      <td>4</td>\n",
       "      <td>0.00</td>\n",
       "      <td>13.3200</td>\n",
       "    </tr>\n",
       "    <tr>\n",
       "      <th>9993</th>\n",
       "      <td>9994</td>\n",
       "      <td>CA-2018-119914</td>\n",
       "      <td>2018-05-04</td>\n",
       "      <td>2018-05-09</td>\n",
       "      <td>Second Class</td>\n",
       "      <td>CC-12220</td>\n",
       "      <td>Chris Cortes</td>\n",
       "      <td>Consumer</td>\n",
       "      <td>Westminster</td>\n",
       "      <td>California</td>\n",
       "      <td>92683.0</td>\n",
       "      <td>West</td>\n",
       "      <td>OFF-AP-10002684</td>\n",
       "      <td>Office Supplies</td>\n",
       "      <td>Appliances</td>\n",
       "      <td>Acco 7-Outlet Masterpiece Power Center, Wihtou...</td>\n",
       "      <td>243.1600</td>\n",
       "      <td>2</td>\n",
       "      <td>0.00</td>\n",
       "      <td>72.9480</td>\n",
       "    </tr>\n",
       "  </tbody>\n",
       "</table>\n",
       "<p>9983 rows × 20 columns</p>\n",
       "</div>"
      ],
      "text/plain": [
       "      Row ID        Order ID Order Date  Ship Date       Ship Mode  \\\n",
       "0          1  CA-2017-152156 2017-11-08 2017-11-11    Second Class   \n",
       "1          2  CA-2017-152156 2017-11-08 2017-11-11    Second Class   \n",
       "2          3  CA-2017-138688 2017-06-12 2017-06-16    Second Class   \n",
       "3          4  US-2016-108966 2016-10-11 2016-10-18  Standard Class   \n",
       "4          5  US-2016-108966 2016-10-11 2016-10-18  Standard Class   \n",
       "...      ...             ...        ...        ...             ...   \n",
       "9989    9990  CA-2015-110422 2015-01-21 2015-01-23    Second Class   \n",
       "9990    9991  CA-2018-121258 2018-02-26 2018-03-03  Standard Class   \n",
       "9991    9992  CA-2018-121258 2018-02-26 2018-03-03  Standard Class   \n",
       "9992    9993  CA-2018-121258 2018-02-26 2018-03-03  Standard Class   \n",
       "9993    9994  CA-2018-119914 2018-05-04 2018-05-09    Second Class   \n",
       "\n",
       "     Customer ID     Customer Name    Segment             City       State  \\\n",
       "0       CG-12520       Claire Gute   Consumer        Henderson    Kentucky   \n",
       "1       CG-12520       Claire Gute   Consumer        Henderson    Kentucky   \n",
       "2       DV-13045   Darrin Van Huff  Corporate      Los Angeles  California   \n",
       "3       SO-20335    Sean O'Donnell   Consumer  Fort Lauderdale     Florida   \n",
       "4       SO-20335    Sean O'Donnell   Consumer  Fort Lauderdale     Florida   \n",
       "...          ...               ...        ...              ...         ...   \n",
       "9989    TB-21400  Tom Boeckenhauer   Consumer            Miami     Florida   \n",
       "9990    DB-13060       Dave Brooks   Consumer       Costa Mesa  California   \n",
       "9991    DB-13060       Dave Brooks   Consumer       Costa Mesa  California   \n",
       "9992    DB-13060       Dave Brooks   Consumer       Costa Mesa  California   \n",
       "9993    CC-12220      Chris Cortes   Consumer      Westminster  California   \n",
       "\n",
       "      Postal Code Region       Product ID         Category Sub-Category  \\\n",
       "0         42420.0  South  FUR-BO-10001798        Furniture    Bookcases   \n",
       "1         42420.0  South  FUR-CH-10000454        Furniture       Chairs   \n",
       "2         90036.0   West  OFF-LA-10000240  Office Supplies       Labels   \n",
       "3         33311.0  South  FUR-TA-10000577        Furniture       Tables   \n",
       "4         33311.0  South  OFF-ST-10000760  Office Supplies      Storage   \n",
       "...           ...    ...              ...              ...          ...   \n",
       "9989      33180.0  South  FUR-FU-10001889        Furniture  Furnishings   \n",
       "9990      92627.0   West  FUR-FU-10000747        Furniture  Furnishings   \n",
       "9991      92627.0   West  TEC-PH-10003645       Technology       Phones   \n",
       "9992      92627.0   West  OFF-PA-10004041  Office Supplies        Paper   \n",
       "9993      92683.0   West  OFF-AP-10002684  Office Supplies   Appliances   \n",
       "\n",
       "                                           Product Name     Sales  Quantity  \\\n",
       "0                     Bush Somerset Collection Bookcase  261.9600         2   \n",
       "1     Hon Deluxe Fabric Upholstered Stacking Chairs,...  731.9400         3   \n",
       "2     Self-Adhesive Address Labels for Typewriters b...   14.6200         2   \n",
       "3         Bretford CR4500 Series Slim Rectangular Table  957.5775         5   \n",
       "4                        Eldon Fold 'N Roll Cart System   22.3680         2   \n",
       "...                                                 ...       ...       ...   \n",
       "9989                             Ultra Door Pull Handle   25.2480         3   \n",
       "9990  Tenex B1-RE Series Chair Mats for Low Pile Car...   91.9600         2   \n",
       "9991                              Aastra 57i VoIP phone  258.5760         2   \n",
       "9992  It's Hot Message Books with Stickers, 2 3/4\" x 5\"   29.6000         4   \n",
       "9993  Acco 7-Outlet Masterpiece Power Center, Wihtou...  243.1600         2   \n",
       "\n",
       "      Discount    Profit  \n",
       "0         0.00   41.9136  \n",
       "1         0.00  219.5820  \n",
       "2         0.00    6.8714  \n",
       "3         0.45 -383.0310  \n",
       "4         0.20    2.5164  \n",
       "...        ...       ...  \n",
       "9989      0.20    4.1028  \n",
       "9990      0.00   15.6332  \n",
       "9991      0.20   19.3932  \n",
       "9992      0.00   13.3200  \n",
       "9993      0.00   72.9480  \n",
       "\n",
       "[9983 rows x 20 columns]"
      ]
     },
     "execution_count": 23,
     "metadata": {},
     "output_type": "execute_result"
    }
   ],
   "source": [
    "df.dropna()"
   ]
  },
  {
   "cell_type": "markdown",
   "metadata": {},
   "source": [
    "## duplicated()\n",
    "to find duplicated values"
   ]
  },
  {
   "cell_type": "code",
   "execution_count": 24,
   "metadata": {},
   "outputs": [
    {
     "data": {
      "text/plain": [
       "0       False\n",
       "1       False\n",
       "2       False\n",
       "3       False\n",
       "4       False\n",
       "        ...  \n",
       "9989    False\n",
       "9990    False\n",
       "9991    False\n",
       "9992    False\n",
       "9993    False\n",
       "Length: 9994, dtype: bool"
      ]
     },
     "execution_count": 24,
     "metadata": {},
     "output_type": "execute_result"
    }
   ],
   "source": [
    "df.duplicated()"
   ]
  },
  {
   "cell_type": "code",
   "execution_count": 25,
   "metadata": {},
   "outputs": [
    {
     "data": {
      "text/plain": [
       "np.int64(0)"
      ]
     },
     "execution_count": 25,
     "metadata": {},
     "output_type": "execute_result"
    }
   ],
   "source": [
    "df.duplicated().sum()"
   ]
  },
  {
   "cell_type": "markdown",
   "metadata": {},
   "source": [
    "## drop()?"
   ]
  },
  {
   "cell_type": "code",
   "execution_count": 26,
   "metadata": {},
   "outputs": [],
   "source": [
    "# if 1 column to be droped just provide column name in \"\"\n",
    "# if more than 1 column to be droped provide column name in list as shown below\n",
    "# axis =1 means that we as droping column\n",
    "# axis = 0 means we droping rows\n",
    "# inplace = True \n",
    "df.drop(['Row ID', 'Order ID', 'Customer ID', 'Product ID'], axis=1, inplace= True)"
   ]
  },
  {
   "cell_type": "code",
   "execution_count": 27,
   "metadata": {},
   "outputs": [
    {
     "data": {
      "text/html": [
       "<div>\n",
       "<style scoped>\n",
       "    .dataframe tbody tr th:only-of-type {\n",
       "        vertical-align: middle;\n",
       "    }\n",
       "\n",
       "    .dataframe tbody tr th {\n",
       "        vertical-align: top;\n",
       "    }\n",
       "\n",
       "    .dataframe thead th {\n",
       "        text-align: right;\n",
       "    }\n",
       "</style>\n",
       "<table border=\"1\" class=\"dataframe\">\n",
       "  <thead>\n",
       "    <tr style=\"text-align: right;\">\n",
       "      <th></th>\n",
       "      <th>Order Date</th>\n",
       "      <th>Ship Date</th>\n",
       "      <th>Ship Mode</th>\n",
       "      <th>Customer Name</th>\n",
       "      <th>Segment</th>\n",
       "      <th>City</th>\n",
       "      <th>State</th>\n",
       "      <th>Postal Code</th>\n",
       "      <th>Region</th>\n",
       "      <th>Category</th>\n",
       "      <th>Sub-Category</th>\n",
       "      <th>Product Name</th>\n",
       "      <th>Sales</th>\n",
       "      <th>Quantity</th>\n",
       "      <th>Discount</th>\n",
       "      <th>Profit</th>\n",
       "    </tr>\n",
       "  </thead>\n",
       "  <tbody>\n",
       "    <tr>\n",
       "      <th>0</th>\n",
       "      <td>2017-11-08</td>\n",
       "      <td>2017-11-11</td>\n",
       "      <td>Second Class</td>\n",
       "      <td>Claire Gute</td>\n",
       "      <td>Consumer</td>\n",
       "      <td>Henderson</td>\n",
       "      <td>Kentucky</td>\n",
       "      <td>42420.0</td>\n",
       "      <td>South</td>\n",
       "      <td>Furniture</td>\n",
       "      <td>Bookcases</td>\n",
       "      <td>Bush Somerset Collection Bookcase</td>\n",
       "      <td>261.9600</td>\n",
       "      <td>2</td>\n",
       "      <td>0.00</td>\n",
       "      <td>41.9136</td>\n",
       "    </tr>\n",
       "    <tr>\n",
       "      <th>1</th>\n",
       "      <td>2017-11-08</td>\n",
       "      <td>2017-11-11</td>\n",
       "      <td>Second Class</td>\n",
       "      <td>Claire Gute</td>\n",
       "      <td>Consumer</td>\n",
       "      <td>Henderson</td>\n",
       "      <td>Kentucky</td>\n",
       "      <td>42420.0</td>\n",
       "      <td>South</td>\n",
       "      <td>Furniture</td>\n",
       "      <td>Chairs</td>\n",
       "      <td>Hon Deluxe Fabric Upholstered Stacking Chairs,...</td>\n",
       "      <td>731.9400</td>\n",
       "      <td>3</td>\n",
       "      <td>0.00</td>\n",
       "      <td>219.5820</td>\n",
       "    </tr>\n",
       "    <tr>\n",
       "      <th>2</th>\n",
       "      <td>2017-06-12</td>\n",
       "      <td>2017-06-16</td>\n",
       "      <td>Second Class</td>\n",
       "      <td>Darrin Van Huff</td>\n",
       "      <td>Corporate</td>\n",
       "      <td>Los Angeles</td>\n",
       "      <td>California</td>\n",
       "      <td>90036.0</td>\n",
       "      <td>West</td>\n",
       "      <td>Office Supplies</td>\n",
       "      <td>Labels</td>\n",
       "      <td>Self-Adhesive Address Labels for Typewriters b...</td>\n",
       "      <td>14.6200</td>\n",
       "      <td>2</td>\n",
       "      <td>0.00</td>\n",
       "      <td>6.8714</td>\n",
       "    </tr>\n",
       "    <tr>\n",
       "      <th>3</th>\n",
       "      <td>2016-10-11</td>\n",
       "      <td>2016-10-18</td>\n",
       "      <td>Standard Class</td>\n",
       "      <td>Sean O'Donnell</td>\n",
       "      <td>Consumer</td>\n",
       "      <td>Fort Lauderdale</td>\n",
       "      <td>Florida</td>\n",
       "      <td>33311.0</td>\n",
       "      <td>South</td>\n",
       "      <td>Furniture</td>\n",
       "      <td>Tables</td>\n",
       "      <td>Bretford CR4500 Series Slim Rectangular Table</td>\n",
       "      <td>957.5775</td>\n",
       "      <td>5</td>\n",
       "      <td>0.45</td>\n",
       "      <td>-383.0310</td>\n",
       "    </tr>\n",
       "    <tr>\n",
       "      <th>4</th>\n",
       "      <td>2016-10-11</td>\n",
       "      <td>2016-10-18</td>\n",
       "      <td>Standard Class</td>\n",
       "      <td>Sean O'Donnell</td>\n",
       "      <td>Consumer</td>\n",
       "      <td>Fort Lauderdale</td>\n",
       "      <td>Florida</td>\n",
       "      <td>33311.0</td>\n",
       "      <td>South</td>\n",
       "      <td>Office Supplies</td>\n",
       "      <td>Storage</td>\n",
       "      <td>Eldon Fold 'N Roll Cart System</td>\n",
       "      <td>22.3680</td>\n",
       "      <td>2</td>\n",
       "      <td>0.20</td>\n",
       "      <td>2.5164</td>\n",
       "    </tr>\n",
       "  </tbody>\n",
       "</table>\n",
       "</div>"
      ],
      "text/plain": [
       "  Order Date  Ship Date       Ship Mode    Customer Name    Segment  \\\n",
       "0 2017-11-08 2017-11-11    Second Class      Claire Gute   Consumer   \n",
       "1 2017-11-08 2017-11-11    Second Class      Claire Gute   Consumer   \n",
       "2 2017-06-12 2017-06-16    Second Class  Darrin Van Huff  Corporate   \n",
       "3 2016-10-11 2016-10-18  Standard Class   Sean O'Donnell   Consumer   \n",
       "4 2016-10-11 2016-10-18  Standard Class   Sean O'Donnell   Consumer   \n",
       "\n",
       "              City       State  Postal Code Region         Category  \\\n",
       "0        Henderson    Kentucky      42420.0  South        Furniture   \n",
       "1        Henderson    Kentucky      42420.0  South        Furniture   \n",
       "2      Los Angeles  California      90036.0   West  Office Supplies   \n",
       "3  Fort Lauderdale     Florida      33311.0  South        Furniture   \n",
       "4  Fort Lauderdale     Florida      33311.0  South  Office Supplies   \n",
       "\n",
       "  Sub-Category                                       Product Name     Sales  \\\n",
       "0    Bookcases                  Bush Somerset Collection Bookcase  261.9600   \n",
       "1       Chairs  Hon Deluxe Fabric Upholstered Stacking Chairs,...  731.9400   \n",
       "2       Labels  Self-Adhesive Address Labels for Typewriters b...   14.6200   \n",
       "3       Tables      Bretford CR4500 Series Slim Rectangular Table  957.5775   \n",
       "4      Storage                     Eldon Fold 'N Roll Cart System   22.3680   \n",
       "\n",
       "   Quantity  Discount    Profit  \n",
       "0         2      0.00   41.9136  \n",
       "1         3      0.00  219.5820  \n",
       "2         2      0.00    6.8714  \n",
       "3         5      0.45 -383.0310  \n",
       "4         2      0.20    2.5164  "
      ]
     },
     "execution_count": 27,
     "metadata": {},
     "output_type": "execute_result"
    }
   ],
   "source": [
    "df.head()"
   ]
  },
  {
   "cell_type": "markdown",
   "metadata": {},
   "source": [
    "## taking out single column from df?\n",
    "it let's us apply methods we could apply on a series"
   ]
  },
  {
   "cell_type": "code",
   "execution_count": 28,
   "metadata": {},
   "outputs": [
    {
     "data": {
      "text/plain": [
       "0            Claire Gute\n",
       "1            Claire Gute\n",
       "2        Darrin Van Huff\n",
       "3         Sean O'Donnell\n",
       "4         Sean O'Donnell\n",
       "              ...       \n",
       "9989    Tom Boeckenhauer\n",
       "9990         Dave Brooks\n",
       "9991         Dave Brooks\n",
       "9992         Dave Brooks\n",
       "9993        Chris Cortes\n",
       "Name: Customer Name, Length: 9994, dtype: object"
      ]
     },
     "execution_count": 28,
     "metadata": {},
     "output_type": "execute_result"
    }
   ],
   "source": [
    "df[\"Customer Name\"]"
   ]
  },
  {
   "cell_type": "code",
   "execution_count": 29,
   "metadata": {},
   "outputs": [
    {
     "data": {
      "text/plain": [
       "pandas.core.series.Series"
      ]
     },
     "execution_count": 29,
     "metadata": {},
     "output_type": "execute_result"
    }
   ],
   "source": [
    "type(df[\"Customer Name\"])"
   ]
  },
  {
   "cell_type": "code",
   "execution_count": 30,
   "metadata": {},
   "outputs": [
    {
     "data": {
      "text/plain": [
       "array(['Claire Gute', 'Darrin Van Huff', \"Sean O'Donnell\",\n",
       "       'Brosina Hoffman', 'Andrew Allen', 'Irene Maddox', 'Harold Pawlan',\n",
       "       'Pete Kriz', 'Alejandro Grove', 'Zuschuss Donatelli', 'Ken Black',\n",
       "       'Sandra Flanagan', 'Emily Burns', 'Eric Hoffmann',\n",
       "       'Tracy Blumstein', 'Matt Abelman', 'Gene Hale', 'Steve Nguyen',\n",
       "       'Linda Cazamias', 'Ruben Ausman', 'Erin Smith', 'Odella Nelson',\n",
       "       \"Patrick O'Donnell\", 'Lena Hernandez', 'Darren Powers',\n",
       "       'Janet Molinari', 'Ted Butterfield', 'Kunst Miller',\n",
       "       'Paul Stevenson', 'Brendan Sweed', 'Karen Daniels',\n",
       "       'Henry MacAllister', 'Joel Eaton', 'Ken Brennan',\n",
       "       'Stewart Carmichael', 'Duane Noonan', 'Julie Creighton',\n",
       "       'Christopher Schild', 'Paul Gonzalez', 'Gary Mitchum', 'Jim Sink',\n",
       "       'Karl Braun', 'Roger Barcio', 'Parhena Norris', 'Katherine Ducich',\n",
       "       'Elpida Rittenbach', 'Rick Bensley', 'Gary Zandusky',\n",
       "       'Lena Cacioppo', 'Janet Martin', 'Pete Armstrong', 'Cynthia Voltz',\n",
       "       'Clay Ludtke', 'Ryan Crowe', 'Dave Kipp', 'Greg Guthrie',\n",
       "       'Steven Cartwright', 'Alan Dominguez', 'Philip Fox',\n",
       "       'Troy Staebel', 'Lindsay Shagiari', 'Dorothy Wardle',\n",
       "       'Lena Creighton', 'Jonathan Doherty', 'Sally Hughsby',\n",
       "       'Sandra Glassco', 'Helen Andreada', 'Maureen Gastineau',\n",
       "       'Justin Ellison', 'Tamara Willingham', 'Stephanie Phelps',\n",
       "       'Neil Knudson', 'Dave Brooks', 'Nora Paige', 'Ted Trevino',\n",
       "       'Eric Murdock', 'Ruben Dartt', 'Max Jones', 'Becky Martin',\n",
       "       'Chad Sievert', 'Jennifer Braxton', 'Shirley Jackson', 'Jim Kriz',\n",
       "       'David Kendrick', 'Robert Marley', 'Sally Knutson', 'Frank Merwin',\n",
       "       'Alice McCarthy', 'Mark Packer', 'Mary Zewe', 'Cassandra Brandow',\n",
       "       'Valerie Mitchum', 'Fred Hopkins', 'Maria Bertelson',\n",
       "       'Bruce Stewart', 'Logan Currie', 'Heather Kirkland',\n",
       "       'Laurel Elliston', 'Joseph Holt', 'Michael Stewart',\n",
       "       'Victoria Wilson', 'Jonathan Howell', 'Joni Blumstein',\n",
       "       'David Smith', 'Valerie Dominguez', 'Erin Ashbrook',\n",
       "       'David Bremer', 'Ken Lonsdale', 'Dianna Wilson',\n",
       "       'Logan Haushalter', 'Kelly Collister', 'Delfina Latchford',\n",
       "       'Dan Reichenbach', 'Craig Carreira', 'Dorris liebe',\n",
       "       'Sean Braxton', 'Roy Collins', 'Alan Hwang', 'Claudia Bergmann',\n",
       "       'Christine Abelman', 'Kristen Hastings', 'Barry Blumstein',\n",
       "       'Andrew Gjertsen', \"Jas O'Carroll\", 'Alan Haines', 'Nick Zandusky',\n",
       "       'Kelly Lampkin', 'Alan Schoenberger', 'Corey Roper',\n",
       "       'Shahid Hopkins', 'Ben Peterman', 'Thomas Seio', 'Andy Gerbode',\n",
       "       'Sung Pak', 'Nathan Mautz', 'Frank Atkinson', 'Grace Kelly',\n",
       "       'Don Jones', \"Patrick O'Brill\", 'John Lucas', 'Doug Bickford',\n",
       "       'Alyssa Crouse', 'Clay Cheatham', 'Tamara Dahlen',\n",
       "       'Adam Bellavance', 'Jeremy Lonsdale', 'Victoria Brennan',\n",
       "       'Katrina Willman', 'Julia Dunbar', 'Michael Kennedy',\n",
       "       'Guy Thornton', 'Arthur Gainer', 'Muhammed MacIntyre',\n",
       "       'Allen Rosenblatt', 'Russell Applegate', 'Alejandro Savely',\n",
       "       'Laura Armstrong', 'Denny Ordway', 'Dean Katz', 'Nathan Gelder',\n",
       "       'Mike Vittorini', 'Jack Garza', 'Bart Pistole', 'Victor Preis',\n",
       "       'Saphhira Shifley', 'Anna Gayman', 'Luke Foster',\n",
       "       'Roy Französisch', 'Keith Herrera', 'Kimberly Carter',\n",
       "       'Caroline Jumper', 'Philip Brown', 'Michael Paige',\n",
       "       'Natalie Fritzler', 'Shirley Daniels', 'Ken Heidel', 'Ross Baird',\n",
       "       'Mike Kennedy', 'Philisse Overcash', 'Brenda Bowman',\n",
       "       'Troy Blackwell', 'Raymond Buch', 'Ed Braxton', 'Sanjit Chand',\n",
       "       'Tanja Norvell', 'Joni Sundaresam', 'Maya Herman', 'Jeremy Pistek',\n",
       "       'Jeremy Ellison', 'John Grady', 'Xylona Preis', 'Erin Mull',\n",
       "       'Michelle Tran', 'Sue Ann Reed', 'Carl Weiss', 'Astrea Jones',\n",
       "       'Sonia Sunley', \"Rose O'Brian\", 'Maribeth Dona', 'Maribeth Yedwab',\n",
       "       'Christopher Martinez', 'Lynn Smith', 'Bradley Nguyen',\n",
       "       'Dean Braden', 'Matt Connell', 'Brian Dahlen', 'Patricia Hirasaki',\n",
       "       'Mike Gockenbach', 'Karen Bern', 'Jasper Cacioppo', 'Rob Lucas',\n",
       "       'Allen Armold', 'Emily Phan', 'Darren Koutras', 'Bradley Drucker',\n",
       "       'Liz MacKendrick', 'Adrian Shami', 'Bill Donatelli', 'Greg Tran',\n",
       "       'Ashley Jarboe', 'Olvera Toch', 'Liz Pelletier', 'Cynthia Arntzen',\n",
       "       'Jeremy Farry', 'Frank Preis', 'Ellis Ballard',\n",
       "       'Jennifer Ferguson', 'Sarah Foster', 'Trudy Glocke',\n",
       "       'Carlos Soltero', 'Charles Crestani', 'Dianna Vittorini',\n",
       "       'Bruce Degenhardt', 'Zuschuss Carroll', 'Melanie Seite',\n",
       "       'Lena Radford', 'Theone Pippenger', 'Chloris Kastensmidt',\n",
       "       'Alan Shonely', 'Andrew Roberts', 'Nona Balk', 'Giulietta Dortch',\n",
       "       'Clytie Kelty', 'Nat Gilpin', 'Christina Anderson',\n",
       "       'Sylvia Foulston', \"Meg O'Connel\", 'Annie Thurman', 'Fred McMath',\n",
       "       'Denny Joy', 'Max Engle', 'Justin Deggeller', 'John Lee',\n",
       "       'Sean Christensen', 'Chuck Clark', 'Anthony Rawles',\n",
       "       'Steven Roelle', 'Craig Reiter', 'Eugene Hildebrand',\n",
       "       'Sibella Parks', 'Tiffany House', 'Resi Pölking', 'Rob Beeghly',\n",
       "       'Carol Darley', 'Doug Jacobs', 'Grant Thornton', 'Michael Chen',\n",
       "       'Ralph Arnett', 'Naresj Patel', 'Alan Barnes', 'Jesus Ocampo',\n",
       "       'Jay Kimmel', 'Brad Norvell', 'David Philippe', 'Tracy Hopkins',\n",
       "       'Arthur Prichep', 'Roland Schwarz', 'Seth Vernon',\n",
       "       'Christine Kargatis', 'Ross DeVincentis', 'Mathew Reese',\n",
       "       'Steve Chapman', 'Jay Fein', 'Emily Grady', 'Darrin Sayre',\n",
       "       'Phillina Ober', 'Sung Shariari', 'Peter Bühler', 'Roland Fjeld',\n",
       "       'Yoseph Carroll', 'Debra Catini', 'Christine Phan',\n",
       "       'Barry Französisch', 'Lisa Hazard', 'Chris Selesnick',\n",
       "       'Anthony Johnson', 'Benjamin Venier', 'Dan Lawera', 'Bryan Mills',\n",
       "       'Liz Thompson', 'Joe Kamberova', 'Erica Smith', 'Rick Hansen',\n",
       "       'Carlos Daly', 'Helen Wasserman', 'Mike Caudle', 'Gary McGarr',\n",
       "       'Pauline Johnson', 'Bart Watters', 'Toby Ritter',\n",
       "       'Patrick Gardner', 'James Lanier', 'Brian Moss', 'Eudokia Martin',\n",
       "       'Art Foster', 'Guy Armstrong', 'Cyma Kinney', 'Dave Poirier',\n",
       "       'Berenike Kampe', 'Sanjit Jacobs', 'Chuck Magee', 'Anthony Jacobs',\n",
       "       'Linda Southworth', 'Guy Phonely', 'Paul Knutson',\n",
       "       'Sally Matthias', 'Anthony Garverick', 'Peter McVee',\n",
       "       'Lauren Leatherbury', 'Jill Stevenson', 'Ed Ludwig',\n",
       "       'Pamela Coakley', 'Hunter Lopez', 'Maribeth Schnelling',\n",
       "       'George Bell', 'Justin Ritter', 'Bill Eplett', 'Sample Company A',\n",
       "       'Rob Williams', 'Sanjit Engle', 'Adam Hart', 'Jessica Myrick',\n",
       "       'Joel Jenkins', 'Ralph Kennedy', 'Catherine Glotzbach',\n",
       "       'Rachel Payne', 'Karen Carlisle', 'Katherine Hughes',\n",
       "       'Greg Hansen', 'Scott Williamson', 'Joseph Airdo', 'Daniel Lacy',\n",
       "       'Lindsay Williams', 'Thomas Brumley', 'Bryan Spruell',\n",
       "       'Robert Waldorf', 'Tracy Zic', 'Ann Steele', 'Toby Swindell',\n",
       "       'Sara Luxemburg', 'Mitch Willingham', 'Rob Dowd', 'Ryan Akin',\n",
       "       'Meg Tillman', 'Vivek Gonzalez', 'John Stevenson', 'Kalyca Meade',\n",
       "       'Hallie Redmond', 'Deanra Eno', 'Allen Goldenen',\n",
       "       'Jennifer Jackson', 'Jennifer Halladay', 'Robert Dilbeck',\n",
       "       \"Mary O'Rourke\", 'Noel Staavos', 'Deirdre Greer', 'Nicole Fjeld',\n",
       "       'Matthew Grinstein', 'Theresa Swint', 'Brian DeCherney',\n",
       "       'Charles McCrossin', 'Skye Norling', 'Erica Hernandez',\n",
       "       'Frank Olsen', 'Maurice Satty', 'Chad Cunningham', 'Don Weiss',\n",
       "       'Bill Tyler', 'Craig Yedwab', 'Brad Thomas', 'Penelope Sewall',\n",
       "       'Paul Van Hugh', 'Neoma Murray', 'Dionis Lloyd',\n",
       "       'Christine Sundaresam', 'Frank Hawley', 'Nat Carroll',\n",
       "       'Alex Avila', 'Larry Tron', 'Anne Pryor', 'Paul MacIntyre',\n",
       "       'Alyssa Tate', 'Cathy Armstrong', 'Harold Ryan', 'Bradley Talbott',\n",
       "       'Larry Hughes', 'Steven Ward', 'Stefania Perrino', 'Ben Ferrer',\n",
       "       'Kean Thornton', 'Brooke Gillingham', 'Greg Matthias',\n",
       "       'Eva Jacobs', 'Nora Preis', 'Mick Hernandez', 'Jocasta Rupert',\n",
       "       'Suzanne McNair', 'Chris Cortes', 'Phillip Flathmann',\n",
       "       'Dan Campbell', 'Bryan Davis', 'Gene McClure', 'Todd Boyes',\n",
       "       'Justin Hirsh', 'Erica Bern', 'Quincy Jones', 'Tracy Collins',\n",
       "       'Chuck Sachs', 'Henry Goldwyn', 'Laurel Workman', 'Matt Collins',\n",
       "       'Liz Preis', 'Evan Bailliet', 'George Zrebassa', 'Cathy Prescott',\n",
       "       'Frank Gastineau', 'Lisa DeCherney', 'Alejandro Ballentine',\n",
       "       'Michael Nguyen', 'Jim Radford', 'Jamie Frazer', 'Chad McGuire',\n",
       "       'Aaron Smayling', 'Beth Paige', 'Natalie DeCherney',\n",
       "       'Larry Blacks', 'Kean Takahito', 'Harry Marie', 'Ann Blume',\n",
       "       'Sam Zeldin', 'Michael Granlund', 'Julie Kriz', 'Paul Prost',\n",
       "       'Yana Sorensen', 'Katherine Murray', 'Adrian Barton',\n",
       "       'Helen Abelman', 'Beth Thompson', 'Stuart Van', 'Rick Wilson',\n",
       "       'Damala Kotsonis', 'Shui Tom', 'Michael Moore', 'Pauline Webber',\n",
       "       'Shaun Chance', 'Thais Sissman', 'Mark Cousins', 'Maria Etezadi',\n",
       "       'Nicole Hansen', 'Mick Brown', 'Keith Dawkins',\n",
       "       'Katherine Nockton', 'Nora Pelletier', 'Cindy Stewart',\n",
       "       'Maxwell Schwartz', 'Corinna Mitchell', 'Corey-Lock',\n",
       "       'Todd Sumrall', 'Jane Waco', 'John Dryer', 'Pauline Chand',\n",
       "       'Andy Reiter', 'Arianne Irving', 'Tom Boeckenhauer', 'Paul Lucas',\n",
       "       'Gary Hwang', 'Mike Pelletier', 'Jim Mitchum', 'Carl Ludwig',\n",
       "       'Deborah Brumfield', 'Ivan Gibson', 'Bobby Odegard', 'Aimee Bixby',\n",
       "       'Julia West', 'Edward Becker', 'Sheri Gordon', 'Charlotte Melton',\n",
       "       'Anthony Witt', 'Mick Crebagga', 'Tonja Turnell', 'Vivek Grady',\n",
       "       'Muhammed Yedwab', 'Rick Duston', 'Dennis Pardue',\n",
       "       'Marina Lichtenstein', 'Jenna Caffey', 'James Galang',\n",
       "       'Marc Crier', 'Natalie Webber', 'Toby Braunhardt', 'Bill Stewart',\n",
       "       'Hilary Holden', 'Christina DeMoss', 'Thea Hendricks',\n",
       "       'Michelle Moray', 'Neola Schneider', 'Robert Barroso',\n",
       "       'Shaun Weien', 'Eric Barreto', 'Pamela Stobb', 'Herbert Flentye',\n",
       "       'Henia Zydlo', 'Cynthia Delaney', 'Jamie Kunitz', 'Filia McAdams',\n",
       "       'Emily Ducich', 'Dianna Arnett', 'Joni Wasserman', 'Raymond Messe',\n",
       "       'Max Ludwig', 'Craig Carroll', 'Jim Epp', 'Roy Phan',\n",
       "       'Thomas Boland', 'Brad Eason', 'Jill Fjeld', 'Phillip Breyer',\n",
       "       'Brian Thompson', 'Janet Lee', 'Cathy Hwang', 'Neil Ducich',\n",
       "       'Barbara Fisher', 'Katharine Harms', 'Giulietta Weimer',\n",
       "       'Noah Childs', 'Michelle Ellison', 'Benjamin Patterson',\n",
       "       'John Castell', 'Adam Shillingsburg', 'Amy Cox',\n",
       "       'Michael Dominguez', 'Duane Benoit', 'Erica Hackney',\n",
       "       'Edward Hooks', 'Scot Coram', 'Joe Elijah', 'Ann Chong',\n",
       "       'Joy Daniels', 'Christy Brittain', 'Joy Smith', 'Luke Weiss',\n",
       "       'Stuart Calhoun', 'Anne McFarland', 'Rick Huthwaite',\n",
       "       'Carol Triggs', 'Matt Collister', 'Corey Catlett',\n",
       "       'Kelly Andreada', 'Tamara Chand', 'Bart Folk', 'Magdelene Morse',\n",
       "       'Adrian Hane', 'Ben Wallace', 'Scot Wooten', 'Brian Stugart',\n",
       "       'Randy Ferguson', 'William Brown', 'Trudy Brown', 'Art Ferguson',\n",
       "       'Richard Bierner', 'Karen Ferguson', 'John Huston', 'Ivan Liston',\n",
       "       'Patrick Bzostek', 'Rob Haberlin', 'Arthur Wiediger',\n",
       "       'Maris LaWare', 'Dorothy Badders', 'Matt Hagelstein',\n",
       "       'Dennis Kane', 'Bobby Trafton', 'Denny Blanton', 'Toby Gnade',\n",
       "       'Barry Franz', 'Justin MacKendrick', 'Maria Zettner',\n",
       "       'Mitch Webber', 'Mark Van Huff', 'Sean Miller', 'Tom Prescott',\n",
       "       'Jim Karlsson', 'Patrick Jones', 'Ricardo Sperren',\n",
       "       'Susan Vittorini', 'Becky Castell', 'Elizabeth Moffitt',\n",
       "       'Brendan Murry', 'Kristina Nunn', 'Kelly Williams', 'Scott Cohen',\n",
       "       'Christina VanderZanden', 'Speros Goranitis', 'Tamara Manning',\n",
       "       'Eleni McCrary', 'Michelle Lonsdale', 'Clay Rozendal',\n",
       "       'Annie Zypern', 'Pierre Wener', 'Shahid Collister',\n",
       "       'Carlos Meador', 'Greg Maxwell', 'Tim Brockman', 'John Murray',\n",
       "       'Sonia Cooley', 'Luke Schmidt', 'Ralph Ritter', 'Daniel Byrd',\n",
       "       'Thomas Thornton', 'Lori Olson', 'Ken Dana', 'Nicole Brennan',\n",
       "       'Brian Derr', 'Chris McAfee', 'Edward Nazzal', 'Kean Nguyen',\n",
       "       'Bill Overfelt', 'Aleksandra Gannaway', 'Matthew Clasen',\n",
       "       'Tom Ashbrook', 'Jason Fortune-', 'Tim Taslimi', 'Sarah Bern',\n",
       "       'Craig Leslie', 'Hunter Glantz', 'Nancy Lomonaco', 'Rick Reed',\n",
       "       'Toby Carlisle', 'Stewart Visinsky', 'Bobby Elias',\n",
       "       'Steve Carroll', 'David Flashing', 'Fred Harton', 'MaryBeth Skach',\n",
       "       'Ritsa Hightower', 'George Ashbrook', 'Julie Prescott',\n",
       "       'Dean percer', 'Michael Oakman', 'Denise Leinenbach',\n",
       "       'Michelle Huthwaite', 'Daniel Raglin', 'Darrin Martin',\n",
       "       'Carol Adams', 'Anna Chung', 'Denise Monton', 'Vicky Freymann',\n",
       "       'Christopher Conant', 'Beth Fritzler', 'Harry Greene', 'Becky Pak',\n",
       "       'Eugene Moren', 'Michelle Arnett', 'Andy Yotov',\n",
       "       'Giulietta Baptist', 'Julia Barnett', 'Michael Grace',\n",
       "       'Sharelle Roach', 'Joy Bell-', 'Dario Medina', 'Tony Chapman',\n",
       "       'Sean Wendt', 'Richard Eichhorn', 'Benjamin Farhat',\n",
       "       'Katrina Bavinger', 'Jason Gross', 'Erin Creighton',\n",
       "       'Eugene Barchas', 'Jennifer Patt', 'Cari Sayre', 'Gary Hansen',\n",
       "       'Pete Takahito', 'Jack Lebron', 'Aaron Hawkins', 'Cindy Chapman',\n",
       "       'David Wiener', 'Sarah Jordon', 'Bruce Geld', 'Laurel Beltran',\n",
       "       'Candace McMahon', 'Evan Henry', 'Tony Sayre', 'Patrick Ryan',\n",
       "       'Liz Carlisle', 'Cindy Schnelling', 'Dave Hallsten',\n",
       "       \"Jack O'Briant\", 'Anna Häberlin', 'Heather Jas', 'Mark Hamilton',\n",
       "       \"Russell D'Ascenzo\", 'Sam Craven', 'Stephanie Ulpright',\n",
       "       'Fred Chung', 'Randy Bradley', 'Nick Crebassa', 'Darren Budd',\n",
       "       'Maureen Fritzler', 'Roland Murray', 'Vivian Mathis', 'Ed Jacobs',\n",
       "       'Nathan Cano', 'Lycoris Saunders', 'Katrina Edelman',\n",
       "       'Duane Huffman', 'Peter Fuller', 'Valerie Takahito',\n",
       "       'Maureen Gnade', 'Susan Pistek', 'Charles Sheldon', 'Dana Kaydos',\n",
       "       'Khloe Miller', 'Anna Andreadi', 'Dorothy Dickinson', 'Amy Hunt',\n",
       "       'Tracy Poddar', 'Eileen Kiefer', 'Cyra Reiten', 'Susan Gilcrest',\n",
       "       'Angele Hood', 'Neil Französisch', 'Bill Shonely',\n",
       "       'Stefanie Holloman', 'Roger Demir', 'Alex Grayson',\n",
       "       'Georgia Rosenberg', 'Vivek Sundaresam', 'Tony Molinari',\n",
       "       'Tom Stivers', 'Dennis Bolton', 'Nick Radford', 'Cari Schnelling',\n",
       "       'Monica Federle', 'Liz Willingham', 'Alex Russell', 'Karen Seio',\n",
       "       'Aaron Bergman', 'Lisa Ryan', 'Shahid Shariari', 'Jill Matthias',\n",
       "       'Jason Klamczynski', 'Don Miller', 'Muhammed Lee', 'Marc Harrigan',\n",
       "       'Frank Carlisle', 'Thea Hudgings', 'Juliana Krohn', 'Sarah Brown',\n",
       "       'Barry Gonzalez', 'Barry Weirich', 'Mitch Gastineau',\n",
       "       \"Doug O'Connell\", 'Barry Pond', 'Trudy Schmidt', 'Evan Minnotte',\n",
       "       \"Anthony O'Donnell\", 'Mark Haberlin', 'Shirley Schmidt',\n",
       "       'Lela Donovan', 'Victoria Pisteka', 'Theresa Coyne',\n",
       "       'Ionia McGrath', 'Anemone Ratner', 'Craig Molinari',\n",
       "       'Fred Wasserman', 'Lindsay Castell', 'Harold Engle',\n",
       "       'Brendan Dodson', 'Harold Dahlen', 'Carl Jackson', 'Roy Skaria',\n",
       "       'Sung Chung', 'Ricardo Emerson', 'Susan MacKendrick'], dtype=object)"
      ]
     },
     "execution_count": 30,
     "metadata": {},
     "output_type": "execute_result"
    }
   ],
   "source": [
    "df[\"Customer Name\"].unique()"
   ]
  },
  {
   "cell_type": "code",
   "execution_count": 31,
   "metadata": {},
   "outputs": [
    {
     "data": {
      "text/plain": [
       "Customer Name\n",
       "William Brown          37\n",
       "Matt Abelman           34\n",
       "John Lee               34\n",
       "Paul Prost             34\n",
       "Chloris Kastensmidt    32\n",
       "                       ..\n",
       "Anthony O'Donnell       1\n",
       "Lela Donovan            1\n",
       "Jocasta Rupert          1\n",
       "Carl Jackson            1\n",
       "Ricardo Emerson         1\n",
       "Name: count, Length: 793, dtype: int64"
      ]
     },
     "execution_count": 31,
     "metadata": {},
     "output_type": "execute_result"
    }
   ],
   "source": [
    "df['Customer Name'].value_counts()"
   ]
  },
  {
   "cell_type": "markdown",
   "metadata": {},
   "source": [
    "# **27.06.2024 Class 13**"
   ]
  },
  {
   "cell_type": "markdown",
   "metadata": {},
   "source": [
    "# **MATPLOTLIB**\n"
   ]
  },
  {
   "cell_type": "markdown",
   "metadata": {},
   "source": [
    "#### How to install matplotlib?"
   ]
  },
  {
   "cell_type": "code",
   "execution_count": 63,
   "metadata": {},
   "outputs": [],
   "source": [
    "#!pip install matplotlib\n",
    "# import matplotlib\n",
    "import matplotlib.pyplot as plt"
   ]
  },
  {
   "cell_type": "markdown",
   "metadata": {},
   "source": [
    "### How to create **Line plot**?"
   ]
  },
  {
   "cell_type": "code",
   "execution_count": null,
   "metadata": {},
   "outputs": [],
   "source": [
    " # lineplot\n",
    "\n",
    "# data \n",
    "x1 = np.random.randint(40,99,100)\n",
    "y1 = np.arange(100)\n"
   ]
  },
  {
   "cell_type": "code",
   "execution_count": 68,
   "metadata": {},
   "outputs": [
    {
     "data": {
      "image/png": "[encoded data removed]",
      "text/plain": [
       "<Figure size 1200x400 with 1 Axes>"
      ]
     },
     "metadata": {},
     "output_type": "display_data"
    }
   ],
   "source": [
    "# ploting\n",
    "plt.figure(figsize=(12,4))\n",
    "plt.xlabel(\"No. of Days\")\n",
    "plt.title(\"Sales by days\")\n",
    "plt.plot(y1,x1 , color = 'red', linestyle = \"--\", \n",
    "         marker = \"o\", markersize = 6, markerfacecolor = \"blue\")\n",
    "plt.show()"
   ]
  },
  {
   "cell_type": "markdown",
   "metadata": {},
   "source": [
    "### How to create **Bar plot** ?\n"
   ]
  },
  {
   "cell_type": "code",
   "execution_count": 83,
   "metadata": {},
   "outputs": [],
   "source": [
    "# Bar plot\n",
    "\n",
    "# Data\n",
    "sales = np.random.randint(100,500,6)\n",
    "salesperson = [\"ram\",'sham', \"seeta\", \"geeta\", \"ramesh\", 'suresh']"
   ]
  },
  {
   "cell_type": "code",
   "execution_count": 90,
   "metadata": {},
   "outputs": [
    {
     "data": {
      "image/png": "[encoded data removed]",
      "text/plain": [
       "<Figure size 640x480 with 1 Axes>"
      ]
     },
     "metadata": {},
     "output_type": "display_data"
    }
   ],
   "source": [
    "# plot\n",
    "from turtle import color\n",
    "\n",
    "\n",
    "plt.bar(salesperson, sales , color=[\"red\", \"blue\", 'green', \"yellow\", 'purple'])\n",
    "plt.xlabel(\"Salesperson\")\n",
    "plt.ylabel(\"Sales\")\n",
    "plt.title(\"Sales by Salesperson\")\n",
    "plt.show()"
   ]
  },
  {
   "cell_type": "markdown",
   "metadata": {},
   "source": [
    "## How to plot **Scatter plot**?\n",
    "\n",
    "> insight : grid must be used with scatter plot"
   ]
  },
  {
   "cell_type": "code",
   "execution_count": 123,
   "metadata": {},
   "outputs": [],
   "source": [
    "# Data\n",
    "sales = np.random.randint(1,10,20)*10000\n",
    "profit = np.random.randint(100,400,20)\n",
    "quantity = np.random.randint(1,6,20)"
   ]
  },
  {
   "cell_type": "markdown",
   "metadata": {},
   "source": [
    "what do scatter() s and c paratmeter?"
   ]
  },
  {
   "cell_type": "code",
   "execution_count": 146,
   "metadata": {},
   "outputs": [
    {
     "data": {
      "image/png": "[encoded data removed]",
      "text/plain": [
       "<Figure size 1000x500 with 1 Axes>"
      ]
     },
     "metadata": {},
     "output_type": "display_data"
    }
   ],
   "source": [
    "# plot\n",
    "plt.figure(figsize=(10,5))\n",
    "plt.scatter(sales, profit, s=quantity*100, c=quantity*100)\n",
    "plt.xlabel(\"Sales\")\n",
    "plt.ylabel(\"Profit\")\n",
    "plt.title('Sales vs Profit')\n",
    "plt.grid(axis = 'y')\n",
    "plt.show()"
   ]
  },
  {
   "cell_type": "markdown",
   "metadata": {},
   "source": [
    "## How to make **Pie plot** ?"
   ]
  },
  {
   "cell_type": "code",
   "execution_count": 120,
   "metadata": {},
   "outputs": [],
   "source": [
    "states = ['Maharashtra','AndhraPradesh', 'Gujrat', 'WestBengal', 'Kerela']\n",
    "gdp = np.random.randint(10,30,5)"
   ]
  },
  {
   "cell_type": "code",
   "execution_count": 145,
   "metadata": {},
   "outputs": [
    {
     "data": {
      "image/png": "[encoded data removed]",
      "text/plain": [
       "<Figure size 640x480 with 1 Axes>"
      ]
     },
     "metadata": {},
     "output_type": "display_data"
    }
   ],
   "source": [
    "# plot\n",
    "plt.title(\"GDP Distribution\")\n",
    "# how to give color theme?\n",
    "plt.pie(gdp, labels = states, autopct=\"%.2f%%\", explode=[0.3, 0,0,0,0], shadow = True)\n",
    "plt.show()"
   ]
  },
  {
   "cell_type": "markdown",
   "metadata": {},
   "source": [
    "## How to make **Box plot**?"
   ]
  },
  {
   "cell_type": "code",
   "execution_count": 168,
   "metadata": {},
   "outputs": [],
   "source": [
    "#Data\n",
    "data = np.random.normal(165,14,500)"
   ]
  },
  {
   "cell_type": "code",
   "execution_count": 169,
   "metadata": {},
   "outputs": [
    {
     "data": {
      "image/png": "[encoded data removed]",
      "text/plain": [
       "<Figure size 1000x400 with 1 Axes>"
      ]
     },
     "metadata": {},
     "output_type": "display_data"
    }
   ],
   "source": [
    "#Plot\n",
    "from seaborn import boxplot\n",
    "\n",
    "# what is inter quartile range?\n",
    "plt.figure(figsize=(10,4))\n",
    "plt.xticks(range(140,200,5))\n",
    "plt.grid(axis = 'x')\n",
    "plt.boxplot(data, vert = False)\n",
    "plt.title(\"Height Data Describe\")\n",
    "plt.show()"
   ]
  },
  {
   "cell_type": "markdown",
   "metadata": {},
   "source": [
    "![boxplot](images/Box%20plot.PNG)\n",
    ">Normal data range?\n",
    "\n",
    ">Inter Quartile Range?       \n",
    "\n",
    ">Outliers?"
   ]
  },
  {
   "cell_type": "markdown",
   "metadata": {},
   "source": []
  },
  {
   "cell_type": "code",
   "execution_count": 170,
   "metadata": {},
   "outputs": [],
   "source": [
    "# what happend here?\n",
    "s = pd.Series(data)"
   ]
  },
  {
   "cell_type": "code",
   "execution_count": 171,
   "metadata": {},
   "outputs": [
    {
     "data": {
      "text/plain": [
       "(np.float64(154.8054082327661), np.float64(172.85915871325477))"
      ]
     },
     "execution_count": 171,
     "metadata": {},
     "output_type": "execute_result"
    }
   ],
   "source": [
    "# what does quantile do?\n",
    "q1 = s.quantile(0.25)\n",
    "q3 = s.quantile(0.75)\n",
    "q1,q3"
   ]
  },
  {
   "cell_type": "code",
   "execution_count": 178,
   "metadata": {},
   "outputs": [
    {
     "data": {
      "text/plain": [
       "np.float64(18.053750480488674)"
      ]
     },
     "execution_count": 178,
     "metadata": {},
     "output_type": "execute_result"
    }
   ],
   "source": [
    "IQR = q3-q1\n",
    "IQR"
   ]
  },
  {
   "cell_type": "code",
   "execution_count": 175,
   "metadata": {},
   "outputs": [
    {
     "data": {
      "text/plain": [
       "(np.float64(127.72478251203309), np.float64(199.93978443398777))"
      ]
     },
     "execution_count": 175,
     "metadata": {},
     "output_type": "execute_result"
    }
   ],
   "source": [
    "lower_bound = q1 - 1.5*IQR\n",
    "upper_bound = q3 + 1.5*IQR\n",
    "\n",
    "lower_bound, upper_bound"
   ]
  },
  {
   "cell_type": "code",
   "execution_count": 181,
   "metadata": {},
   "outputs": [
    {
     "data": {
      "image/png": "[encoded data removed]",
      "text/plain": [
       "<Figure size 1000x400 with 1 Axes>"
      ]
     },
     "metadata": {},
     "output_type": "display_data"
    }
   ],
   "source": [
    "plt.figure(figsize=(10,4))\n",
    "plt.xticks(range(140, 200, 5))\n",
    "plt.grid(axis = 'x')\n",
    "plt.axvline(lower_bound)\n",
    "plt.axvline(upper_bound)\n",
    "plt.boxplot(data, vert=False)\n",
    "plt.title('Height Data Desciption')\n",
    "plt.show()"
   ]
  },
  {
   "cell_type": "markdown",
   "metadata": {},
   "source": [
    "## How to make **Histogram**?"
   ]
  },
  {
   "cell_type": "code",
   "execution_count": 177,
   "metadata": {},
   "outputs": [
    {
     "data": {
      "image/png": "[encoded data removed]",
      "text/plain": [
       "<Figure size 640x480 with 1 Axes>"
      ]
     },
     "metadata": {},
     "output_type": "display_data"
    }
   ],
   "source": [
    "plt.hist(data, bins=50)  # what is bin?\n",
    "plt.show()"
   ]
  },
  {
   "cell_type": "code",
   "execution_count": null,
   "metadata": {},
   "outputs": [],
   "source": []
  },
  {
   "cell_type": "markdown",
   "metadata": {},
   "source": [
    "# **28.06.2024 Class 14**"
   ]
  },
  {
   "cell_type": "markdown",
   "metadata": {},
   "source": [
    "# **SEABORN**"
   ]
  },
  {
   "cell_type": "markdown",
   "metadata": {},
   "source": []
  }
 ],
 "metadata": {
  "kernelspec": {
   "display_name": "Python 3",
   "language": "python",
   "name": "python3"
  },
  "language_info": {
   "codemirror_mode": {
    "name": "ipython",
    "version": 3
   },
   "file_extension": ".py",
   "mimetype": "text/x-python",
   "name": "python",
   "nbconvert_exporter": "python",
   "pygments_lexer": "ipython3",
   "version": "3.12.3"
  }
 },
 "nbformat": 4,
 "nbformat_minor": 2
}
