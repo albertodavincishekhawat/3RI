{
 "cells": [
  {
   "cell_type": "markdown",
   "metadata": {},
   "source": [
    "# Analytics1071\n",
    "\n",
    "by Pawan Kumar ***(Data Scientist)***\n",
    "\n",
    "<br>\n",
    "<br>\n",
    "\n",
    "--- \n",
    "---\n",
    "<br>"
   ]
  },
  {
   "cell_type": "markdown",
   "metadata": {},
   "source": [
    "[Probablity & Statistics](https://www.khanacademy.org/math/statistics-probability) <br>\n",
    "[Linear Algebra](https://www.khanacademy.org/math/linear-algebra)"
   ]
  },
  {
   "cell_type": "markdown",
   "metadata": {},
   "source": [
    "# **31.05.24 Class 1**\n"
   ]
  },
  {
   "cell_type": "markdown",
   "metadata": {},
   "source": [
    "## Few things about python !"
   ]
  },
  {
   "cell_type": "markdown",
   "metadata": {},
   "source": [
    "\n",
    "\n",
    "> *Words and **\"terms\"** used during an interview are very important thet reflect you depth of knowledge.* \n",
    "\n",
    "> *First question asked in an interview can also decide if you will be part of that company or not.*\n",
    "\n",
    "> *Being able to create visuals in head of your client is a crusial part of being a **Data Scientist** .*\n"
   ]
  },
  {
   "cell_type": "markdown",
   "metadata": {},
   "source": [
    "\n",
    "### [Interpreter vs Compiler ?](https://www.geeksforgeeks.org/difference-between-compiler-and-interpreter/)\n",
    "| \"INTERPRETER\" | \"COMPILER\" |\n",
    "| :---|:---|\n",
    "|executes line by line|executes all lines|\n",
    "|wont check next line til error resolved| compiles whole code with errors|\n",
    "|makes no other file|creates a file w/t compiled code & then executes it|\n",
    "\n",
    "- **EXECUTION** - checking runtime errors\n",
    "- **COMPILING** - checking syntax error \n"
   ]
  },
  {
   "cell_type": "markdown",
   "metadata": {},
   "source": [
    "### J.I.T - Just In Time ( interpreter ? compiler ? )\n",
    "> It looks like there are is no compiler & only interpreter, it does have a compiler which executes line by line.<br> ***Usually a JIT compiler is the only thing that can improve performances in interpreted languages as of now.(2024)***"
   ]
  },
  {
   "cell_type": "markdown",
   "metadata": {},
   "source": [
    "\n",
    "\n",
    "#### How is JIT working ? \n",
    "[JIT-Deep Understanding](https://stackoverflow.com/questions/13034991/does-the-python-3-interpreter-have-a-jit-feature)\n",
    "1. Compiler checks syntax of a line(code)\n",
    "2. If there is no error, code is sent to KERNEL.<br>\n",
    "    - If code asks to print result print it.\n",
    "    - If code asks to save result allocate memory to it.\n",
    "3. Mean while result is being printed or saved JIT is compiling the next line of code.\n",
    "\n",
    "\n",
    ">  *KERNEL = Core part of any OS, the controls all the resources and computes.\n",
    "\n"
   ]
  },
  {
   "cell_type": "markdown",
   "metadata": {},
   "source": [
    "\n",
    "\n",
    "\n",
    "#### Why using it ?\n",
    "- **Faster debuging** no need to wait while whole code compiles.\n",
    "- Better **scalablity** as good for larger datasets and complex workloads.\n"
   ]
  },
  {
   "cell_type": "markdown",
   "metadata": {},
   "source": [
    ">Generally, you can ***improve the program's performance much better simply by avoiding unnecessary work***, i.e. by optimizing the program. This is true regardless of whether you run the program through an interpreter, a JIT compiler, or an ahead-of-time compiler\n",
    "\n"
   ]
  },
  {
   "cell_type": "markdown",
   "metadata": {},
   "source": [
    "### Is python OOPs or procedural programming language ?\n",
    "\n",
    "Python <u>supports procedural programming</u> but it's not compltely OPPs language it dosen't because :<br>\n",
    "<br>**[Abstraction](https://www.digitalocean.com/community/tutorials/what-is-abstraction-in-oops)** *i.e, \"access modifiers\" don't really work* and <br>\n",
    "**[Polymorphism](https://www.techtarget.com/searchapparchitecture/tip/Understanding-the-role-of-polymorphism-in-OOP)** *in python \"overloading\" dosen't exist.*\n",
    "\n",
    "Both the points bove mean that python has ***low security***."
   ]
  },
  {
   "cell_type": "markdown",
   "metadata": {},
   "source": [
    "> ***What is a \"Complex Number\"?*** <br><br>**Complex Numbers** = *real number + imaginary number*\n",
    ">- Example : *5 + 3j       *where 'j' is the imaginary part*"
   ]
  },
  {
   "cell_type": "markdown",
   "metadata": {},
   "source": [
    "### Everything in python is as an object ? What ?\n",
    "This should give you a sense of what it means!\n",
    "* All datatypes in python are a class.\n",
    "* That means variables we create are instance(object) of datatypes."
   ]
  },
  {
   "cell_type": "code",
   "execution_count": 1,
   "metadata": {},
   "outputs": [
    {
     "name": "stdout",
     "output_type": "stream",
     "text": [
      "<class 'str'> <class 'list'>\n"
     ]
    }
   ],
   "source": [
    "# a and b both are objects(variables) \n",
    "a = 'string'    # object of class \"str\"\n",
    "l=['e1','e2']   # object of class \"list\"\n",
    "\n",
    "print(type(a),type(l))\n",
    "\n",
    "\n",
    "l.append('a')   # .append is a method of class \"list\""
   ]
  },
  {
   "cell_type": "markdown",
   "metadata": {},
   "source": [
    "> Pay attention that both variables a and b are pointing at the same point in memory_ID. "
   ]
  },
  {
   "cell_type": "code",
   "execution_count": 2,
   "metadata": {},
   "outputs": [
    {
     "name": "stdout",
     "output_type": "stream",
     "text": [
      "140736538010696\n",
      "140736538010696\n"
     ]
    }
   ],
   "source": [
    "a = 10\n",
    "print(id(a))\n",
    "\n",
    "b = 10\n",
    "print(id(b))"
   ]
  },
  {
   "cell_type": "markdown",
   "metadata": {},
   "source": [
    "> ***Mutable and Immutable datatypes in python ?***<br>\n",
    "\n",
    "- **Mutable** List, Dict, Set <br>\n",
    "- **Immutable** Int, Float, Str, Bool, Complex, Tuple"
   ]
  },
  {
   "cell_type": "markdown",
   "metadata": {},
   "source": [
    "> **Trick Question :** <br> \n",
    "- ***How many programs are running if a python code/ file is executed?*** <br>\n",
    "    - Python has a \"Garbage Collector\" which means technically there are 2 programs running when a python program is running."
   ]
  },
  {
   "cell_type": "markdown",
   "metadata": {},
   "source": [
    "# **04.06.24 Class 2**"
   ]
  },
  {
   "cell_type": "markdown",
   "metadata": {},
   "source": [
    "## Vectors & Matrices\n",
    "\n",
    "All these mathamatical operations can be performed on arrays of equal shape and size! \n",
    "- when discussing vectors in numpy or pandas we don't have a direction per say as in we used to discus in physics.\n",
    "    -  here a 'scaler' is a uni-directional object. \n",
    "    - everything else is a vector if it has a n-dimentional (more than zero dimentions) i.e, a vector."
   ]
  },
  {
   "cell_type": "markdown",
   "metadata": {},
   "source": [
    "### Vectors\n",
    "##### [What is **\"magnitude of a vector\"** OR **\"Length of a vector\"** (Euclidean Distance) ?](https://byjus.com/maths/euclidean-distance/)\n",
    "\n",
    "##### [**Zero vector ?**](https://byjus.com/question-answer/what-is-means-of-zero-vector-explain-with-example/)\n",
    "\n",
    "##### [**Unit vector ?**](https://byjus.com/maths/unit-vector/)\n",
    "\n",
    "##### [**Negetive vector?**](https://byjus.com/question-answer/what-is-negative-of-a-vector/)\n",
    "\n",
    "##### **Additive identity**\n",
    "##### **Multiplicative identity**\n"
   ]
  },
  {
   "cell_type": "markdown",
   "metadata": {},
   "source": [
    "# **05.06.24 Class 3**"
   ]
  },
  {
   "cell_type": "markdown",
   "metadata": {},
   "source": [
    "\n",
    "##### [**Vector arithematics( Cross / Dot product) ?**](http://spiff.rit.edu/classes/phys311.old/lectures/vector/vector.html)\n"
   ]
  },
  {
   "cell_type": "markdown",
   "metadata": {},
   "source": [
    "\n",
    "### [Matrices](https://www.geeksforgeeks.org/matrices/)<br>\n",
    "[Basic Matrix operations](https://www.geeksforgeeks.org/matrix-operations/)\n",
    "##### Column matrix ?\n",
    "##### Row matrix ?\n",
    "##### Square matrix ?\n",
    "##### Identity matrix ?\n",
    "##### Inverse matrix ?\n",
    "##### Diagonal matrix ?\n",
    "\n",
    "##### [**Operations on matrices ?**](https://www.geeksforgeeks.org/matrices/#operation-on-matrices)\n",
    "> *Remember :* A.B != B.A\n",
    "\n",
    "- Extra\n",
    "    - [Difference Between Scalar, Vector, Matrix and Tensor](https://www.geeksforgeeks.org/difference-between-scalar-vector-matrix-and-tensor/) <br>\n",
    "    - [Linear Algebra](https://www.geeksforgeeks.org/linear-algebra/)"
   ]
  },
  {
   "cell_type": "markdown",
   "metadata": {},
   "source": [
    "# **06.06.24 Class 4**\n",
    "\n",
    "## What is DATA ?\n",
    "Finding relationship in raw data which are called \"facts\" and recording those facts in a structured way is called data. <br>\n",
    "***relationship(raw data) = facts<br>\n",
    "recorded(facts) = DATA***\n"
   ]
  },
  {
   "cell_type": "markdown",
   "metadata": {},
   "source": [
    "\n",
    "#### What is insight?\n",
    "Finding patterns and observations in data that is not explicitly found!\n"
   ]
  },
  {
   "cell_type": "markdown",
   "metadata": {},
   "source": [
    "\n",
    "#### [Types of DATA?](https://www.geeksforgeeks.org/what-is-data/#types-of-data) \n",
    "- [Good answer](https://www.geeksforgeeks.org/data-types-in-statistics/)\n"
   ]
  },
  {
   "cell_type": "markdown",
   "metadata": {},
   "source": [
    "#### Test to find if data is catogorical or not?\n",
    "If data dose not negetive and float value , does it have very high values, it may be catogorical.\n",
    "\n",
    "Ex. Age is not a numerical value it's a catagorical value."
   ]
  },
  {
   "cell_type": "markdown",
   "metadata": {},
   "source": [
    "\n",
    "> As a \"Data Scientist\" it's important to keep in mind that data being analysed can be random!\n"
   ]
  },
  {
   "cell_type": "markdown",
   "metadata": {},
   "source": [
    "## [Central Tendency? Read FAQs](https://www.geeksforgeeks.org/measures-of-central-tendency/)\n",
    "##### [When to use what?<br>When are Central Tendencies misleading? Read Questions inisde!](https://testbook.com/ugc-net-commerce/measures-of-central-tendency-median#:~:text=In%20skewed%20distributions%2C%20the%20mean,not%20influenced%20by%20extreme%20values.)"
   ]
  },
  {
   "cell_type": "markdown",
   "metadata": {},
   "source": [
    "## **[Dispersion?](https://testbook.com/ugc-net-commerce/measures-of-dispersion)**\n",
    "#### Types?\n",
    "#### When and What to use?"
   ]
  },
  {
   "cell_type": "markdown",
   "metadata": {},
   "source": [
    "### [Emperical Rule?](https://www.simplilearn.com/tutorials/statistics-tutorial/all-about-the-empirical-rule-in-statistics)"
   ]
  },
  {
   "cell_type": "markdown",
   "metadata": {},
   "source": []
  },
  {
   "cell_type": "markdown",
   "metadata": {},
   "source": []
  },
  {
   "cell_type": "markdown",
   "metadata": {},
   "source": []
  },
  {
   "cell_type": "markdown",
   "metadata": {},
   "source": []
  },
  {
   "cell_type": "markdown",
   "metadata": {},
   "source": [
    "# **19.06.2024 Class 8**"
   ]
  },
  {
   "cell_type": "markdown",
   "metadata": {},
   "source": [
    "### Hypothesis Testing?"
   ]
  },
  {
   "cell_type": "markdown",
   "metadata": {
    "editable": true,
    "slideshow": {
     "slide_type": ""
    },
    "tags": []
   },
   "source": []
  },
  {
   "cell_type": "markdown",
   "metadata": {},
   "source": []
  }
 ],
 "metadata": {
  "kernelspec": {
   "display_name": "Python 3 (ipykernel)",
   "language": "python",
   "name": "python3"
  },
  "language_info": {
   "codemirror_mode": {
    "name": "ipython",
    "version": 3
   },
   "file_extension": ".py",
   "mimetype": "text/x-python",
   "name": "python",
   "nbconvert_exporter": "python",
   "pygments_lexer": "ipython3",
   "version": "3.11.5"
  }
 },
 "nbformat": 4,
 "nbformat_minor": 4
}
