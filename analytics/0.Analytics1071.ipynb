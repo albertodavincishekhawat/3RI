{
 "cells": [
  {
   "cell_type": "markdown",
   "metadata": {},
   "source": [
    "# Analytics1071\n",
    "\n",
    "by Pawan Kumar ***(Data Scientist)***\n",
    "\n",
    "<br>\n",
    "<br>\n",
    "\n",
    "--- \n",
    "---\n",
    "<br>"
   ]
  },
  {
   "cell_type": "markdown",
   "metadata": {},
   "source": [
    "# **31.05.24 Class 1**\n"
   ]
  },
  {
   "cell_type": "markdown",
   "metadata": {},
   "source": [
    ">**How is data collected by big tech companies?** What kind of data is it?(*one of the ways*)\n",
    "- Our digital **footprint** is collected in **cache** file.\n",
    "- It's collected when user visits a website or uses an app. \n",
    "- Developers use cached data to improve user experience by loading faster.\n",
    "- An app's cache stores data that the app needs to function, such as images, results from web service calls, and other data. \n",
    "\n",
    "**Why are they using cache?**\n",
    "- The cache is stored on the device's local storage so that the app can access it quickly without having to fetch it from its original source. When the app needs to retrieve this data, it checks the cache first, and if the data is present, it is retrieved from the cache rather than being fetched from the network or other sources."
   ]
  },
  {
   "cell_type": "markdown",
   "metadata": {},
   "source": [
    "## Few things about python !\n",
    "- Made by **Guido van Rossum**(neitherlands )\n",
    "- Interpreter based\n",
    "    - line by line compiled\n",
    "- Procedural language and OOPs to an extent with some limitations\n",
    "    - features like abstraction and polymorphism is not properly applicable\n",
    "- case sensetive\n",
    "- server based (backend)\n",
    "- Dynamically typed\n",
    "    - we dont have to assign data types or sizes it auto **detects types** and **resizes** as required\n",
    "- open source\n",
    "- platform independent\n",
    "    - can work on multiple OS and has minimum requirments to work\n",
    "- braces are replaced by **indentation** to define scopes.\n"
   ]
  },
  {
   "cell_type": "markdown",
   "metadata": {},
   "source": [
    "\n",
    "\n",
    "> *Words and **\"terms\"** used during an interview are very important thet reflect you depth of knowledge.* \n",
    "\n",
    "> *First question asked in an interview can also decide if you will be part of that company or not.*\n",
    "\n",
    "> *Being able to create visuals in head of your client is a crusial part of being a **Data Scientist** .*  You should have the skill to express.\n",
    "\n",
    "> It is important that you are always vigillant, calm and as much prepared as possible. You will get through a lot of escallations and it's ok.\n",
    "\n",
    "> Your reliablity and character is the ultimate social currency\n",
    "\n",
    "> Your abilty to deliver is what really makes you big money\n",
    "\n",
    "> keep your basics very strong\n",
    "    > hence revise as much as possible\n",
    "\n",
    "> Practice mindfulness 24x7\n",
    "\n",
    "> Communication must be super smooth, and practice clear, concise and polite.\n"
   ]
  },
  {
   "cell_type": "markdown",
   "metadata": {},
   "source": [
    "\n",
    "### [Interpreter vs Compiler ?](https://www.geeksforgeeks.org/difference-between-compiler-and-interpreter/)\n",
    "\n",
    "- compiler compiles and then executes the **whole** code\n",
    "- interpreter compiles and executes line by line.\n",
    "\n",
    "This makes interpreter fast to work with!\n"
   ]
  },
  {
   "cell_type": "markdown",
   "metadata": {},
   "source": [
    "| \"INTERPRETER\" | \"COMPILER\" |\n",
    "| :---|:---|\n",
    "|executes line by line|executes all lines|\n",
    "|wont check next line till error resolved| compiles whole code with errors|\n",
    "|makes no other file|creates a file with machine code or compiled code & then executes it|\n",
    "\n",
    "- **EXECUTION** - checking runtime errors\n",
    "- **COMPILING** - checking syntax error \n"
   ]
  },
  {
   "cell_type": "markdown",
   "metadata": {},
   "source": [
    "### J.I.T - Just In Time ( interpreter ? compiler ? )-\n",
    "It looks like there are is no compiler & only interpreter, it does have a compiler which executes line by line.<br> \n",
    "\n",
    "> JIT never goes into ***WAITING STATE***, usually compilers go into waiting states when the find an error and waits for next instruction.\n",
    "\n",
    "***Usually a JIT compiler is the only thing that can improve performances in interpreted languages as of now.(2024)***"
   ]
  },
  {
   "cell_type": "markdown",
   "metadata": {},
   "source": [
    "\n",
    "\n",
    "#### How is JIT working ? \n",
    "[JIT-Deep Understanding](https://stackoverflow.com/questions/13034991/does-the-python-3-interpreter-have-a-jit-feature)\n",
    "1. Compiler checks syntax of a line(code)\n",
    "2. If there is no error, code is sent to KERNEL.<br>\n",
    "    - If code asks to print result print it.\n",
    "    - If code asks to save result allocate memory to it.\n",
    "3. Mean while result is being printed or saved JIT is compiling the next line of code.\n",
    "\n",
    "\n",
    ">  *KERNEL* = Core part of any OS, the controls all the resources and computes.\n",
    "\n"
   ]
  },
  {
   "cell_type": "markdown",
   "metadata": {},
   "source": [
    "\n",
    "\n",
    "\n",
    "#### Why using INTERPRETER ?\n",
    "- **Faster debuging** no need to wait while whole code compiles.\n",
    "- Better **scalablity** as good for larger datasets and complex workloads.\n"
   ]
  },
  {
   "cell_type": "markdown",
   "metadata": {},
   "source": [
    ">Generally, you can ***improve the program's performance much better simply by avoiding unnecessary work***, i.e. by optimizing the program. \n",
    "\n",
    ">This is true regardless of whether you run the program through an interpreter, a JIT compiler, or an ahead-of-time compiler\n",
    "\n"
   ]
  },
  {
   "cell_type": "markdown",
   "metadata": {},
   "source": []
  },
  {
   "cell_type": "markdown",
   "metadata": {},
   "source": [
    "### Is python OOPs or procedural programming language ?\n",
    "\n",
    "Python <u>supports procedural programming</u> but it's not compltely OPPs language it dosen't because :<br>\n",
    "<br>**[Abstraction](https://www.digitalocean.com/community/tutorials/what-is-abstraction-in-oops)** *i.e, \"access modifiers\" don't really work* and <br>\n",
    "\n",
    "> What is **ABSTRACTION**?<br>\n",
    "Just using the function or class for it's functionality without knowing how it's done, <br>\n",
    "such layering for simplification or security is also called ***Abstraction***.\n",
    "\n",
    "There is no **[Polymorphism](https://www.techtarget.com/searchapparchitecture/tip/Understanding-the-role-of-polymorphism-in-OOP)** in python *\"overloading\" dosen't exist but \"Overridding\" does*.\n",
    "\n",
    "Both the points bove mean that python has ***low security***."
   ]
  },
  {
   "cell_type": "markdown",
   "metadata": {},
   "source": [
    "### [Overloading vs Overloading?](https://ca.indeed.com/career-advice/career-development/overloading-vs-overriding#:~:text=Overloading%20happens%20when%20you%20keep,but%20you%20cannot%20override%20them.)\n",
    "\n",
    "Add write up!"
   ]
  },
  {
   "cell_type": "markdown",
   "metadata": {},
   "source": [
    "> ***What is a \"Complex Number\"?*** <br><br>**Complex Numbers** = *real number + imaginary number*\n",
    ">- Example : *5 + 3j       *where 'j' is the imaginary part*"
   ]
  },
  {
   "cell_type": "markdown",
   "metadata": {},
   "source": [
    "### Everything in python is as an object ? What ?\n",
    "This should give you a sense of what it means!\n",
    "* All datatypes in python are a class.\n",
    "* That means variables we create are instance(object) of a datatype(class)."
   ]
  },
  {
   "cell_type": "code",
   "execution_count": null,
   "metadata": {},
   "outputs": [],
   "source": [
    "# a and b both are objects(variables) \n",
    "a = 'string'    # object of class \"str\"\n",
    "l=['e1','e2']   # object of class \"list\"\n",
    "\n",
    "print(type(a),type(l))\n",
    "\n",
    "\n",
    "l.append('a')   # .append is a method of class \"list\" "
   ]
  },
  {
   "cell_type": "markdown",
   "metadata": {},
   "source": [
    "> Pay attention that both variables a and b are pointing at the same point in memory_ID. "
   ]
  },
  {
   "cell_type": "code",
   "execution_count": null,
   "metadata": {},
   "outputs": [],
   "source": [
    "a = 10\n",
    "print(id(a))\n",
    "\n",
    "b = 10\n",
    "print(id(b))"
   ]
  },
  {
   "cell_type": "markdown",
   "metadata": {},
   "source": [
    "### ***Mutable and Immutable datatypes in python ?***<br>\n",
    "\n",
    "- **Mutable** List, Dict, Set <br>\n",
    "- **Immutable** Int, Float, Str, Bool, Complex, Tuple"
   ]
  },
  {
   "cell_type": "markdown",
   "metadata": {},
   "source": [
    "> **Mutable vs Immutable**?\n",
    "Reason lies in the fact that in case of **mutable** when we try to change it the ***memory allocation remains the same*** but in case of **immutable** when we change it the ***memory allocation changes***"
   ]
  },
  {
   "cell_type": "code",
   "execution_count": 1,
   "metadata": {},
   "outputs": [
    {
     "name": "stdout",
     "output_type": "stream",
     "text": [
      "before change in list : 1729815851968\n",
      "after change in list : 1729815851968\n",
      "before change in tuple : 1729815627312\n",
      "after change in tuple : 1729815818416\n"
     ]
    }
   ],
   "source": [
    "mutable_list = [1,2,3,4]\n",
    "print(\"before change in list :\",id(mutable_list))\n",
    "mutable_list.append(5)\n",
    "print(\"after change in list :\",id(mutable_list))\n",
    "\n",
    "\n",
    "\n",
    "immutable_tuple = (1,2,3,4)\n",
    "print(\"before change in tuple :\",id(immutable_tuple))\n",
    "# immutable_tuple.append(5)      --------append dosnot work with tuple so we re create it with one more element\n",
    "immutable_tuple = (1,2,3,4,5)\n",
    "print(\"after change in tuple :\",id(immutable_tuple))"
   ]
  },
  {
   "cell_type": "markdown",
   "metadata": {},
   "source": [
    "- Set\n",
    "    - can't store list\n",
    "    - only unique values\n",
    "    - unordered"
   ]
  },
  {
   "cell_type": "markdown",
   "metadata": {},
   "source": [
    "> **Trick Question :** <br> \n",
    "- ***How many programs are running if a python code/ file is executed?*** <br>\n",
    "    - Python has a \"Garbage Collector\" which means technically there are 2 programs running when a python program is running."
   ]
  },
  {
   "cell_type": "markdown",
   "metadata": {},
   "source": [
    "### Does python support **arrays**?\n",
    "- There is **no way to use array in python** so we use **numpy** library which \n",
    "- its written in **C language**"
   ]
  },
  {
   "cell_type": "markdown",
   "metadata": {},
   "source": [
    "### What are the types of argumments in function?\n",
    "There are 4 types\n",
    "- Positional required argument\n",
    "    - the first argument\n",
    "- Default argument\n",
    "- Keyword Argument\n",
    "- Keyword variable length argument(When we dont know how many arguments are to be given)\n"
   ]
  },
  {
   "cell_type": "markdown",
   "metadata": {},
   "source": [
    "### Can we use **else** without **if**?\n",
    "**Case 1** : Yes we can so this by using *else* after a for loop.\n"
   ]
  },
  {
   "cell_type": "code",
   "execution_count": null,
   "metadata": {},
   "outputs": [],
   "source": [
    "for x in range(6):\n",
    "  print(x)\n",
    "else:\n",
    "  print(\"Finally finished!\")"
   ]
  },
  {
   "cell_type": "markdown",
   "metadata": {},
   "source": [
    "**Case 2** : try except else final \n",
    "In try-except as well we can use else without if. "
   ]
  },
  {
   "cell_type": "code",
   "execution_count": null,
   "metadata": {},
   "outputs": [],
   "source": [
    "# Python code to illustrate working of try()  \n",
    "def divide(x, y): \n",
    "    try: \n",
    "        # Floor Division : Gives only Fractional\n",
    "        # Part as Answer \n",
    "        result = x // y \n",
    "    except ZeroDivisionError: \n",
    "        print(\"Sorry ! You are dividing by zero \") \n",
    "    else:\n",
    "        print(\"Yeah ! Your answer is :\", result) \n",
    "  \n",
    "# Look at parameters and note the working of Program \n",
    "divide(3, 2) \n",
    "divide(3, 0)"
   ]
  },
  {
   "cell_type": "markdown",
   "metadata": {},
   "source": [
    "> there is no **switch case** in python"
   ]
  },
  {
   "cell_type": "markdown",
   "metadata": {},
   "source": [
    "### When to use **for loop** and when to use **while loop**?\n",
    "- **ForLoop** : We know how many times to iterate\n",
    "- **WhileLoop** : We don't know how many times to iiterate"
   ]
  },
  {
   "cell_type": "markdown",
   "metadata": {},
   "source": [
    "> [SAS](https://www.geeksforgeeks.org/introduction-to-sas-programming/) is a commercial programming language for analytics"
   ]
  },
  {
   "cell_type": "markdown",
   "metadata": {},
   "source": [
    "# **SQL**"
   ]
  },
  {
   "cell_type": "markdown",
   "metadata": {},
   "source": [
    "### DBMS vs RDBMS vs NON-RDBMS?\n",
    "\n",
    "**DBMS** : taking instructions to CRUD(Creat, Record, Update and Delete) and <br>\n",
    "applying them and displaying user interface for such operations are all responsiblities of Database Managament System.\n",
    "\n",
    "**RDBMS** : Helps define relationship between the data.(between tables and databases)<br>\n",
    "- basiclly uses primary keys and foreign keys\n",
    "- data is structured in rows and columns"
   ]
  },
  {
   "cell_type": "markdown",
   "metadata": {},
   "source": [
    "### Unique Constraint vs Primary Key?\n",
    "Primary key cannot **be null value** but Unique key **can be null values**\n",
    "\n",
    "> only a **Primary Key** can be **Foreign Key**"
   ]
  },
  {
   "cell_type": "markdown",
   "metadata": {},
   "source": [
    "### Table vs View?\n",
    "Table : consumes storage\n",
    "View : Just a query, a filtered data, it's filtered data customized for a person's view. \n",
    "\n",
    "> analysis done on view dosen't affect the actual database"
   ]
  },
  {
   "cell_type": "markdown",
   "metadata": {},
   "source": [
    "### Indexing in SQL\n",
    "[Indexing in SQL](https://www.w3schools.com/sql/sql_create_index.asp) makes retriving data faster"
   ]
  },
  {
   "cell_type": "markdown",
   "metadata": {},
   "source": [
    "### Join in SQL\n",
    "A [***JOIN***](https://www.w3schools.com/sql/sql_join.asp) clause is used to combine rows from two or more tables, based on a related column between them.\n",
    "- **INNER JOIN**: Returns records that have matching values in both tables\n",
    "- **LEFT (OUTER) JOIN**: Returns all records from the left table, and the matched records from the right table\n",
    "- **RIGHT (OUTER) JOIN**: Returns all records from the right table, and the matched records from the left table\n",
    "- **FULL (OUTER) JOIN**: Returns all records when there is a match in either left or right table"
   ]
  },
  {
   "cell_type": "markdown",
   "metadata": {},
   "source": [
    "# Types of querries\n",
    "- **DDL** : \"Data **Defination** Language\" creating and modifying table structure\n",
    "- **DML** : \"Data **Manipulation** Language\" Insert and manipulate data \n",
    "- **DCL** : \"Data **Control** Language\" to define permission, access, users and admin\n",
    "- **TCL** : \"**Transaction Control** Language\" for transaction and rollbacks\n",
    "- **DQL** : \"Data Querry Language\" for fetching data "
   ]
  },
  {
   "cell_type": "markdown",
   "metadata": {},
   "source": [
    "### [***ACID properties***](https://www.simplilearn.com/acid-properties-in-dbms-article)\n",
    "> It's property of DBMS not database\n",
    "\n",
    "Atomicity, Consistency, Isolation, and Durability (ACID) are basic concepts ensuring a database's transactional integrity. "
   ]
  },
  {
   "cell_type": "markdown",
   "metadata": {},
   "source": [
    "# [Probablity & Statistics](https://www.khanacademy.org/math/statistics-probability) <br>\n"
   ]
  },
  {
   "cell_type": "markdown",
   "metadata": {},
   "source": [
    "## What is Probablity?\n",
    "Probability is simply how likely something is to happen. ***How likely an outcome might occur.*** The analysis of events governed by probability is called **statistics**.\n",
    "\n",
    "Probability is the branch of mathematics that deals with the study of random events. It allows us to quantify uncertainty and make predictions about the likelihood of certain events occurring.\n"
   ]
  },
  {
   "cell_type": "markdown",
   "metadata": {},
   "source": [
    "\n",
    "\n",
    "## Basic Concepts in Probability\n",
    "An **event** is a collection of outcomes. An **outcome** is the result of an experiment. A **sample space** is the set of all possible outcomes of an experiment. For example, if we toss a coin, the sample space consists of two possible outcomes: heads and tails. If we roll a die, the sample space consists of six possible outcomes: 1, 2, 3, 4, 5, or 6.\n",
    "\n",
    "The probability of an event is a number between 0 and 1, inclusive, that represents the likelihood of the event occurring. If an event is impossible, its probability is 0. If an event is certain, its probability is 1. For example, the probability of rolling a 7 on a standard die is 0, and the probability of rolling a number less than 7 on a standard die is 1.\n"
   ]
  },
  {
   "cell_type": "markdown",
   "metadata": {},
   "source": [
    "\n",
    "## How are Probablities Calculated? Methods?\n",
    "\n",
    "\n",
    "Probability can be classified into several types based on different contexts and approaches. Here are the main types of probability:\n",
    "\n",
    "1. **Classical Probability**:\n",
    "      > used when we assume **outcome of each sample space is equally likely**\n",
    "   - **Definition**: Based on the assumption that all outcomes in the sample space are equally likely.\n",
    "   - **Formula**: P(A) = Number of favorable outcomes/Total number of outcomes\n",
    "   - **Example**: The probability of getting heads when flipping a fair coin is 1/2.\n",
    "\n",
    "   \n",
    "      > ***Alternative defination***\n",
    "      - Classical probability is based on theoretical analysis and assumes that **all outcomes in a sample space are equally likely to occur**. \n",
    "      - The probability of an event A is the number of outcomes that favor A divided / total number of outcomes in the sample space. \n",
    "      - For example, **the probability of rolling a 1 on a standard die is 1/6**, and **the probability of rolling an even number on a standard die is 3/6 = 1/2**.  \n",
    "\n",
    "2. **Empirical (or Experimental) Probability**:\n",
    "      > used when we calculate **probablity by observing previously occurred experiments**.\n",
    "   - **Definition**: Based on observations or experiments.\n",
    "   - **Formula**: P(A) = Number of times event A occurs/Total number of trials\n",
    "   - **Example**: If you roll a die 100 times and the number 4 comes up 20 times, the empirical probability of rolling a 4 is \\( \\frac{20}{100} = 0.2 \\).\n",
    "\n",
    "3. **Subjective Probability**:\n",
    "      >probablity estimations based on subjective experience\n",
    "   - **Definition**: Based on personal judgment or experience, not on exact calculations or experiments.\n",
    "   - **Example**: A weather forecaster might say there's a 70% chance of rain tomorrow based on their experience and available data.\n",
    "\n",
    "4. **Axiomatic Probability**: [Read for detail on \"Andrey Kolmogorov's axioms\" **Focus on conclusion section**](https://unacademy.com/content/jee/study-material/mathematics/three-axioms-of-kolmogorovs/)\n",
    "   - **Definition**: **Based on a set of axioms or rules**. This approach was developed by Russian mathematician **Andrey Kolmogorov**.\n",
    "   - **Axioms**:\n",
    "     1. The probability of an event is a non-negative number: **P(A)>= 0**.\n",
    "     2. The probability of the sample space is 1: **P(S) = 1**.\n",
    "     3. For any two mutually exclusive events A and B, the probability of their union is the sum of their probabilities: P(A Union B) = P(A) + P(B) if A and B are mutually exclusive.\n",
    "   - **Example**: Using these axioms, one can derive that the probability of the complement of an event A is P(A^c) = 1 - P(A).\n",
    "\n",
    "5. **Conditional Probability**:\n",
    "   - **Definition**: The probability of an event occurring given that another event has already occurred.\n",
    "   - **Formula**: \\( P(A|B) = \\frac{P(A \\cap B)}{P(B)} \\) where \\( P(B) \\neq 0 \\).\n",
    "   - **Example**: The probability of drawing a red card from a deck of cards, given that the card drawn is a heart, is \\( \\frac{13/52}{1/4} = 1 \\) since all hearts are red.\n",
    "\n",
    "6. **Bayesian Probability**:\n",
    "   - **Definition**: A method of probability interpretation that updates the probability of a hypothesis as more evidence or information becomes available.\n",
    "   - **Formula**:P(A|B) = P(B|A).P(A) / P(B)\n",
    "   - **Example**: In medical testing, if a test is known to be 99% accurate, and a patient tests positive, Bayesian probability can be used to update the likelihood that the patient actually has the disease given the positive result.\n"
   ]
  },
  {
   "cell_type": "markdown",
   "metadata": {},
   "source": [
    "\n",
    "## Theorm vs Axioms\n",
    "An axiom is a basic fact that is taken for granted without proof.\n",
    "\n",
    "Examples:\n",
    "- Halves of equals are equal.\n",
    "-  The whole is greater than each of its parts.\n",
    "\n",
    "Theorem: A statement that requires proof is called theorem.\n",
    "\n",
    "Examples:\n",
    "- The sum of all the angles around a point is \n",
    "-  The sum of all the angles of triangle is \n",
    "\n",
    "[Bayes Theorm]()\n",
    "\n",
    "[Linear Algebra find an article]()"
   ]
  },
  {
   "cell_type": "markdown",
   "metadata": {},
   "source": [
    "# **04.06.24 Class 2**"
   ]
  },
  {
   "cell_type": "markdown",
   "metadata": {},
   "source": [
    "## Vectors & Matrices\n",
    "\n",
    "All these mathamatical operations can be performed on arrays of equal shape and size! \n",
    "- when discussing vectors in numpy or pandas we don't have a direction per say as in we used to discus in physics.\n",
    "    -  here a 'scaler' is a uni-directional object. \n",
    "    - everything else is a vector if it has a n-dimentional (more than zero dimentions) i.e, a vector."
   ]
  },
  {
   "cell_type": "markdown",
   "metadata": {},
   "source": [
    "### Vectors\n",
    "##### [What is **\"magnitude of a vector\"** OR **\"Length of a vector\"** (Euclidean Distance) ?](https://byjus.com/maths/euclidean-distance/)\n",
    "\n",
    "##### [**Zero vector ?**](https://byjus.com/question-answer/what-is-means-of-zero-vector-explain-with-example/)\n",
    "\n",
    "##### [**Unit vector ?**](https://byjus.com/maths/unit-vector/)\n",
    "\n",
    "##### [**Negetive vector?**](https://byjus.com/question-answer/what-is-negative-of-a-vector/)\n",
    "\n",
    "##### **Additive identity**\n",
    "##### **Multiplicative identity**\n"
   ]
  },
  {
   "cell_type": "markdown",
   "metadata": {},
   "source": [
    "# **05.06.24 Class 3**"
   ]
  },
  {
   "cell_type": "markdown",
   "metadata": {
    "slideshow": {
     "slide_type": "fragment"
    }
   },
   "source": [
    "\n",
    "##### [**Vector arithematics( Cross / Dot product) ?**](http://spiff.rit.edu/classes/phys311.old/lectures/vector/vector.html)\n"
   ]
  },
  {
   "cell_type": "markdown",
   "metadata": {},
   "source": [
    "\n",
    "### [Matrices](https://www.geeksforgeeks.org/matrices/)<br>\n",
    "[Basic Matrix operations](https://www.geeksforgeeks.org/matrix-operations/)\n",
    "##### Column matrix ?\n",
    "##### Row matrix ?\n",
    "##### Square matrix ?\n",
    "##### Identity matrix ?\n",
    "##### Inverse matrix ?\n",
    "##### Diagonal matrix ?\n",
    "\n",
    "##### [**Operations on matrices ?**](https://www.geeksforgeeks.org/matrices/#operation-on-matrices)\n",
    "> *Remember :* A.B != B.A\n",
    "\n",
    "- Extra\n",
    "    - [Difference Between Scalar, Vector, Matrix and Tensor](https://www.geeksforgeeks.org/difference-between-scalar-vector-matrix-and-tensor/) <br>\n",
    "    - [Linear Algebra](https://www.geeksforgeeks.org/linear-algebra/)"
   ]
  },
  {
   "cell_type": "markdown",
   "metadata": {},
   "source": [
    "# **06.06.24 Class 4**\n",
    "\n",
    "## What is DATA ?\n",
    "- if there is **relationship in raw data** then they are called \"**facts**\" \n",
    "- **recording those facts** in a structured way is called **data**. <br>\n",
    "***relationship(raw data) = facts<br>\n",
    "recorded(facts) = DATA***\n",
    "\n",
    "> till the time raw data is not giving out facts there is no point analysing it.\n"
   ]
  },
  {
   "cell_type": "markdown",
   "metadata": {},
   "source": [
    "\n",
    "#### What is insight?\n",
    "Finding patterns and observations in data that is not explicitly found!\n"
   ]
  },
  {
   "cell_type": "markdown",
   "metadata": {},
   "source": [
    "\n",
    "#### [Types of DATA?](https://www.geeksforgeeks.org/what-is-data/#types-of-data) \n",
    "- [Good answer](https://www.geeksforgeeks.org/data-types-in-statistics/)\n",
    "- Understand more about \"ratio scale\" and \"interval scale\" data types."
   ]
  },
  {
   "cell_type": "markdown",
   "metadata": {},
   "source": [
    "#### Test to find if data is catogorical or not?\n",
    "If data dose not negetive and float value , does not have very high values, it may be catogorical.\n",
    "\n",
    "Ex. Age is not a numerical value it's a catagorical value."
   ]
  },
  {
   "cell_type": "markdown",
   "metadata": {},
   "source": [
    "\n",
    "> As a \"Data Scientist\" it's important to keep in mind that data being analysed can be random!\n"
   ]
  },
  {
   "cell_type": "markdown",
   "metadata": {},
   "source": [
    "## [Central Tendency? Read FAQs](https://www.geeksforgeeks.org/measures-of-central-tendency/)\n",
    "![alt](Images/CentralTndencySkew.PNG)"
   ]
  },
  {
   "cell_type": "markdown",
   "metadata": {},
   "source": [
    "- **What is a Measure of Central Tendency in Statistics?**\n",
    "\n",
    "    Measure of Central Tendency of a dataset represent a central value or a typical value for a dataset which can be used to do further analysis on the data.\n",
    "\n",
    "- **What is the Mean?**\n",
    "\n",
    "    Mean is the Average value of the dataset and can be calculated Arithmetically, Geometrically, and Harmonically as well. Generally by term “mean” means the arithmetic mean of the data.\n",
    "\n",
    "- **When is the Mean a good measure of Central Tendency?**\n",
    "\n",
    "    Mean is a good measure of central tendency when data is normally distributed and there is no extreme values or outliers in the dataset.\n",
    "\n",
    "- **What is the Median?**\n",
    "\n",
    "    Median is the middle value of the data set when arranged in increasing or decreasing order i.e., in either ascending or desending order there are equal number of observations on both sides of median.\n",
    "\n",
    "- **When is the Median a good measure of Central Tendency?**\n",
    "\n",
    "    The median is a good measure of central tendency when dataset is skewed or there are extreme values or outliers in the dataset.\n",
    "\n",
    "- **What is the Mode?**\n",
    "\n",
    "    Mode is highest frequency observation of the given dataset.\n",
    "\n",
    "- **When is the Mode a good measure of Central Tendency?**\n",
    "\n",
    "    The mode is a good measure of central tendency when there are clear peaks in the dataset of frequencies of observations.\n",
    "\n",
    "- **Can a dataset have more than one mode?**\n",
    "\n",
    "    Yes, a dataset can have more than one mode as there can be two observations with same number of highest frequencies.\n",
    "\n",
    "- **What is the purpose of central tendency?**\n",
    "\n",
    "    The primary goal of central tendency is to offer a single value that effectively represents a set of collected data. This value aims to capture the core or typical aspect of the data, providing a concise summary of the overall information."
   ]
  },
  {
   "cell_type": "markdown",
   "metadata": {},
   "source": [
    "##### [When to use Which central tendency?<br>When are Central Tendencies misleading? Read FAQs inisde!](https://testbook.com/ugc-net-commerce/measures-of-central-tendency-median#:~:text=In%20skewed%20distributions%2C%20the%20mean,not%20influenced%20by%20extreme%20values.)"
   ]
  },
  {
   "cell_type": "markdown",
   "metadata": {},
   "source": [
    "## **[Dispersion?](https://testbook.com/ugc-net-commerce/measures-of-dispersion)**\n",
    "\n",
    "Imagine you and a bunch of your friends went apple picking. At the end of the day, each of you has a basket full of apples. Now, if you were to count the average number of apples everyone picked, you might find out that, say, everyone picked around 20 apples on average. But here's the twist: not everyone picked exactly 20 apples! Some might have picked 10, others 30, and some maybe just 5.\n",
    "\n",
    "Now, the \"Measure of Dispersion\" is like a magnifying glass that helps you see how different each friend's apple count is from that average of 20. Instead of just saying, \"Hey, we all picked around 20 apples,\" it gives you a sense of the spread. It tells you if everyone's apple count was pretty close to 20 or if they were all over the place.\n",
    "\n",
    "In fancy math terms, ***measures of dispersion provide insights into the variability or spread of a set of dat*a**. But in simpler terms, it's all about understanding the difference and variety among your data points. It's like getting the full story, not just the headline. So, whether you're looking at apple counts, test scores, or any other group of numbers, measures of dispersion help paint a clearer, more complete picture. It's like understanding the whole story of your apple-picking adventure, not just a single chapter!"
   ]
  },
  {
   "cell_type": "markdown",
   "metadata": {},
   "source": [
    "#### Types?\n"
   ]
  },
  {
   "cell_type": "markdown",
   "metadata": {},
   "source": [
    "The types of dispersion measure have been stated below.\n",
    "\n",
    "- Range: \n",
    "    - This is the simplest measure. It's like saying the difference between the scariest horror movie and the mushiest romantic movie. In data terms, the range is just the difference between the largest and the smallest value.\n",
    "\n",
    "- Interquartile Range (IQR):\n",
    "    - Now, imagine you listed all the movies based on how much action they had, from least to most. The IQR would tell you the range of movies that fall in the middle 50%. It gives you an idea of where the bulk of your movies lie, excluding the extremes.\n",
    "\n",
    "- Variance: \n",
    "    - Imagine if you were to measure on a scale of 1-10 how close each movie is to everyone's ideal movie preference. Then, you tried to find out how much each rating differs from the average. Summing up these differences (squared, to avoid negatives) and getting an average gives you the variance. It's like a numerical way of seeing how much individual movie ratings differ from the group's average taste.\n",
    "\n",
    "- Standard Deviation:\n",
    "    - This is like the trusty sidekick of variance. Think of it as the average difference from the mean, but in the original units. So, if variance is like measuring in \"squared movie differences\", standard deviation brings it back to just \"movie differences\". It's super useful because it's easier to relate to the original data.\n",
    "\n",
    "- Coefficient of Variation:\n",
    "    - This is a relative measure. It’s like saying, \"Compared to how much everyone generally liked the movies, how varied were their preferences?\" It’s the standard deviation as a percentage of the mean, showing variability in relation to the average."
   ]
  },
  {
   "cell_type": "markdown",
   "metadata": {},
   "source": [
    "#### What does it help underatand?"
   ]
  },
  {
   "cell_type": "markdown",
   "metadata": {},
   "source": [
    "The importance of measures of dispersion has been stated below.\n",
    "\n",
    "- Fuller Picture\n",
    "\n",
    "    - Imagine baking cookies. If I told you the average chocolate chip in each cookie is 5, that sounds okay, right?\n",
    "But what if some cookies had 10 chips and others had none? You'd want to know that! **Measures of dispersion highlight such variations**.\n",
    "\n",
    "- Spotting the Odd Ones Out\n",
    "\n",
    "    - Think of it like sorting marbles. Most might be blue, but what if there's a random red one?\n",
    "Measures of dispersion help you spot these 'red marbles' or **unusual data points**.\n",
    "\n",
    "- Understanding the Average Better\n",
    "\n",
    "    - Back to the cookie example! If I say the average chocolate chip count is 5, it's more meaningful if most cookies have 4-6 chips than if they ranged from 0-10 chips.\n",
    "Basically, the spread **helps us know how much we can trust or rely on that average**.\n",
    "\n",
    "- Making Informed Decisions\n",
    "\n",
    "    - Imagine you're picking a restaurant based on reviews. Two spots both have an average rating of 4 stars.\n",
    "But if one restaurant's ratings are mostly 4s and the other's range from 1 to 5, you'd probably prefer the consistent one. Measures of dispersion show you that **range**.\n",
    "\n",
    "- Comparing Variability\n",
    "\n",
    "    - Let's say you’re looking at heights of players from two basketball teams. Both teams might have an average height of 6 feet.\n",
    "But one team might have all players close to 6 feet, while the other has some super tall and some shorter players. Measures of dispersion let you see this difference in height **distribution**."
   ]
  }
 ],
 "metadata": {
  "kernelspec": {
   "display_name": "Python 3 (ipykernel)",
   "language": "python",
   "name": "python3"
  },
  "language_info": {
   "codemirror_mode": {
    "name": "ipython",
    "version": 3
   },
   "file_extension": ".py",
   "mimetype": "text/x-python",
   "name": "python",
   "nbconvert_exporter": "python",
   "pygments_lexer": "ipython3",
   "version": "3.12.3"
  }
 },
 "nbformat": 4,
 "nbformat_minor": 4
}
