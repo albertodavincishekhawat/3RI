{
 "cells": [
  {
   "cell_type": "markdown",
   "metadata": {},
   "source": [
    "# AWS-SolutionArchitectAssociateCourse\n",
    "by Gaurav Agrawal"
   ]
  },
  {
   "cell_type": "markdown",
   "metadata": {},
   "source": [
    "> This course is not about creating apps i.e, development rather deploying and maintaining them on cloud!\n",
    "\n",
    "> I.T is not about more experience anymore it's about more skill. "
   ]
  },
  {
   "cell_type": "markdown",
   "metadata": {},
   "source": [
    "# How to creating AWS account?"
   ]
  },
  {
   "cell_type": "markdown",
   "metadata": {},
   "source": [
    "[Video reference for account creation ](https://www.youtube.com/watch?v=p6TcrHLO5CY)"
   ]
  },
  {
   "cell_type": "markdown",
   "metadata": {},
   "source": [
    "# Charactristics of Cloud Computing\n",
    "![alt](images/char%20of%20cloud%20computing.PNG)\n",
    "> on premisses: onsite dataware house"
   ]
  },
  {
   "cell_type": "markdown",
   "metadata": {},
   "source": [
    "![alt](images/TypesofCloud.PNG)"
   ]
  },
  {
   "cell_type": "markdown",
   "metadata": {},
   "source": [
    "![alt](images/TypesManagement.PNG)"
   ]
  },
  {
   "cell_type": "markdown",
   "metadata": {},
   "source": [
    "> 3 of everything makes things cost effecctively safe\n",
    "Each aws region has minimum 3 availablity region "
   ]
  },
  {
   "cell_type": "markdown",
   "metadata": {},
   "source": [
    "Root user pays for everything and also create new users with limited access."
   ]
  }
 ],
 "metadata": {
  "language_info": {
   "name": "python"
  }
 },
 "nbformat": 4,
 "nbformat_minor": 2
}
